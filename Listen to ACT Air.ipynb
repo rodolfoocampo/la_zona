{
 "cells": [
  {
   "cell_type": "code",
   "execution_count": 1,
   "metadata": {},
   "outputs": [],
   "source": [
    "# Listen to\n",
    "from datetime import datetime\n",
    "import pandas as pd\n",
    "import matplotlib.pyplot as plt\n",
    "population = pd.read_csv('ACT_population_born_overseas.csv')\n",
    "from miditime.miditime import MIDITime\n",
    "import random\n",
    "import sys\n",
    "import mido\n",
    "from mido import Message, MidiFile, MidiTrack, MAX_PITCHWHEEL, MetaMessage\n",
    "import numpy as np\n",
    "import math\n",
    "from music21 import midi\n",
    "from plotly import __version__\n",
    "from plotly.offline import download_plotlyjs, init_notebook_mode, plot, iplot\n",
    "import cufflinks as cf"
   ]
  },
  {
   "cell_type": "markdown",
   "metadata": {},
   "source": [
    "How many years are there in the dataset?"
   ]
  },
  {
   "cell_type": "code",
   "execution_count": 2,
   "metadata": {},
   "outputs": [
    {
     "name": "stderr",
     "output_type": "stream",
     "text": [
      "WARNING:root:Requests made without an app_token will be subject to strict throttling limits.\n"
     ]
    }
   ],
   "source": [
    "import pandas as pd\n",
    "from sodapy import Socrata\n",
    "\n",
    "# Unauthenticated client only works with public data sets. Note 'None'\n",
    "# in place of application token, and no username or password:\n",
    "client = Socrata(\"www.data.act.gov.au\", None)\n",
    "\n",
    "# Example authenticated client (needed for non-public datasets):\n",
    "# client = Socrata(www.data.act.gov.au,\n",
    "#                  MyAppToken,\n",
    "#                  userame=\"user@example.com\",\n",
    "#                  password=\"AFakePassword\")\n",
    "\n",
    "# First 2000 results, returned as JSON from API / converted to Python list of\n",
    "# dictionaries by sodapy.\n",
    "results = client.get(\"i5w3-megw\", limit=2000)\n",
    "\n",
    "# Convert to pandas DataFrame\n",
    "results_df = pd.DataFrame.from_records(results)"
   ]
  },
  {
   "cell_type": "code",
   "execution_count": 3,
   "metadata": {},
   "outputs": [
    {
     "data": {
      "text/html": [
       "<div>\n",
       "<style scoped>\n",
       "    .dataframe tbody tr th:only-of-type {\n",
       "        vertical-align: middle;\n",
       "    }\n",
       "\n",
       "    .dataframe tbody tr th {\n",
       "        vertical-align: top;\n",
       "    }\n",
       "\n",
       "    .dataframe thead th {\n",
       "        text-align: right;\n",
       "    }\n",
       "</style>\n",
       "<table border=\"1\" class=\"dataframe\">\n",
       "  <thead>\n",
       "    <tr style=\"text-align: right;\">\n",
       "      <th></th>\n",
       "      <th>name</th>\n",
       "      <th>datetime</th>\n",
       "      <th>aqi_co</th>\n",
       "      <th>aqi_no2</th>\n",
       "      <th>aqi_o3_1hr</th>\n",
       "      <th>aqi_o3_4hr</th>\n",
       "      <th>aqi_pm10</th>\n",
       "      <th>aqi_pm2_5</th>\n",
       "      <th>aqi_site</th>\n",
       "      <th>time</th>\n",
       "    </tr>\n",
       "  </thead>\n",
       "  <tbody>\n",
       "    <tr>\n",
       "      <td>0</td>\n",
       "      <td>Civic</td>\n",
       "      <td>2020-04-15T00:00:00.000</td>\n",
       "      <td>0</td>\n",
       "      <td>0</td>\n",
       "      <td>23</td>\n",
       "      <td>28</td>\n",
       "      <td>36</td>\n",
       "      <td>47</td>\n",
       "      <td>47</td>\n",
       "      <td>21</td>\n",
       "    </tr>\n",
       "    <tr>\n",
       "      <td>1</td>\n",
       "      <td>Florey</td>\n",
       "      <td>2020-04-15T00:00:00.000</td>\n",
       "      <td>5</td>\n",
       "      <td>9</td>\n",
       "      <td>30</td>\n",
       "      <td>36</td>\n",
       "      <td>39</td>\n",
       "      <td>88</td>\n",
       "      <td>88</td>\n",
       "      <td>21</td>\n",
       "    </tr>\n",
       "    <tr>\n",
       "      <td>2</td>\n",
       "      <td>Monash</td>\n",
       "      <td>2020-04-15T00:00:00.000</td>\n",
       "      <td>6</td>\n",
       "      <td>4</td>\n",
       "      <td>29</td>\n",
       "      <td>36</td>\n",
       "      <td>44</td>\n",
       "      <td>62</td>\n",
       "      <td>62</td>\n",
       "      <td>21</td>\n",
       "    </tr>\n",
       "    <tr>\n",
       "      <td>3</td>\n",
       "      <td>Monash</td>\n",
       "      <td>2020-04-14T00:00:00.000</td>\n",
       "      <td>6</td>\n",
       "      <td>11</td>\n",
       "      <td>23</td>\n",
       "      <td>27</td>\n",
       "      <td>33</td>\n",
       "      <td>62</td>\n",
       "      <td>62</td>\n",
       "      <td>23</td>\n",
       "    </tr>\n",
       "    <tr>\n",
       "      <td>4</td>\n",
       "      <td>Civic</td>\n",
       "      <td>2020-04-14T00:00:00.000</td>\n",
       "      <td>0</td>\n",
       "      <td>0</td>\n",
       "      <td>18</td>\n",
       "      <td>20</td>\n",
       "      <td>24</td>\n",
       "      <td>39</td>\n",
       "      <td>39</td>\n",
       "      <td>23</td>\n",
       "    </tr>\n",
       "  </tbody>\n",
       "</table>\n",
       "</div>"
      ],
      "text/plain": [
       "     name                 datetime aqi_co aqi_no2 aqi_o3_1hr aqi_o3_4hr  \\\n",
       "0   Civic  2020-04-15T00:00:00.000      0       0         23         28   \n",
       "1  Florey  2020-04-15T00:00:00.000      5       9         30         36   \n",
       "2  Monash  2020-04-15T00:00:00.000      6       4         29         36   \n",
       "3  Monash  2020-04-14T00:00:00.000      6      11         23         27   \n",
       "4   Civic  2020-04-14T00:00:00.000      0       0         18         20   \n",
       "\n",
       "  aqi_pm10 aqi_pm2_5 aqi_site time  \n",
       "0       36        47       47   21  \n",
       "1       39        88       88   21  \n",
       "2       44        62       62   21  \n",
       "3       33        62       62   23  \n",
       "4       24        39       39   23  "
      ]
     },
     "execution_count": 3,
     "metadata": {},
     "output_type": "execute_result"
    }
   ],
   "source": [
    "results_df.head()\n"
   ]
  },
  {
   "cell_type": "markdown",
   "metadata": {},
   "source": [
    "Let's examine the days. We see that we have daily data from 2018"
   ]
  },
  {
   "cell_type": "code",
   "execution_count": 4,
   "metadata": {},
   "outputs": [
    {
     "data": {
      "text/plain": [
       "0       2020-04-15T00:00:00.000\n",
       "1       2020-04-15T00:00:00.000\n",
       "2       2020-04-15T00:00:00.000\n",
       "3       2020-04-14T00:00:00.000\n",
       "4       2020-04-14T00:00:00.000\n",
       "                 ...           \n",
       "1995    2018-06-11T00:00:00.000\n",
       "1996    2018-06-10T00:00:00.000\n",
       "1997    2018-06-10T00:00:00.000\n",
       "1998    2018-06-10T00:00:00.000\n",
       "1999    2018-06-09T00:00:00.000\n",
       "Name: datetime, Length: 2000, dtype: object"
      ]
     },
     "execution_count": 4,
     "metadata": {},
     "output_type": "execute_result"
    }
   ],
   "source": [
    "results_df['datetime']"
   ]
  },
  {
   "cell_type": "code",
   "execution_count": 5,
   "metadata": {},
   "outputs": [],
   "source": [
    "results_df['date'] = list(map(lambda d: str(d.split('T')[0]), results_df['datetime']))"
   ]
  },
  {
   "cell_type": "code",
   "execution_count": 6,
   "metadata": {},
   "outputs": [],
   "source": [
    "results_df['yearmonth'] = list(map(lambda d: str(d.split('-')[0]) + '-' + str(d.split('-')[1]), results_df['date']))"
   ]
  },
  {
   "cell_type": "markdown",
   "metadata": {},
   "source": [
    "Let's see the data types. We see that we will have to convert datetime to datetime format."
   ]
  },
  {
   "cell_type": "code",
   "execution_count": 7,
   "metadata": {},
   "outputs": [
    {
     "data": {
      "text/plain": [
       "name          object\n",
       "datetime      object\n",
       "aqi_co        object\n",
       "aqi_no2       object\n",
       "aqi_o3_1hr    object\n",
       "aqi_o3_4hr    object\n",
       "aqi_pm10      object\n",
       "aqi_pm2_5     object\n",
       "aqi_site      object\n",
       "time          object\n",
       "date          object\n",
       "yearmonth     object\n",
       "dtype: object"
      ]
     },
     "execution_count": 7,
     "metadata": {},
     "output_type": "execute_result"
    }
   ],
   "source": [
    "results_df.dtypes"
   ]
  },
  {
   "cell_type": "code",
   "execution_count": 8,
   "metadata": {},
   "outputs": [
    {
     "data": {
      "text/plain": [
       "name          714\n",
       "datetime      714\n",
       "aqi_co          0\n",
       "aqi_no2       110\n",
       "aqi_o3_1hr    712\n",
       "aqi_o3_4hr    698\n",
       "aqi_pm10      660\n",
       "aqi_pm2_5     656\n",
       "aqi_site      714\n",
       "time          714\n",
       "date          714\n",
       "yearmonth     714\n",
       "dtype: int64"
      ]
     },
     "execution_count": 8,
     "metadata": {},
     "output_type": "execute_result"
    }
   ],
   "source": [
    "results_df[results_df['aqi_co'].isnull()].count()"
   ]
  },
  {
   "cell_type": "markdown",
   "metadata": {},
   "source": [
    "We see that about 40% of the values are null, so we drop them"
   ]
  },
  {
   "cell_type": "code",
   "execution_count": 9,
   "metadata": {},
   "outputs": [],
   "source": [
    "air = results_df.dropna()"
   ]
  },
  {
   "cell_type": "code",
   "execution_count": 10,
   "metadata": {},
   "outputs": [
    {
     "data": {
      "text/html": [
       "<div>\n",
       "<style scoped>\n",
       "    .dataframe tbody tr th:only-of-type {\n",
       "        vertical-align: middle;\n",
       "    }\n",
       "\n",
       "    .dataframe tbody tr th {\n",
       "        vertical-align: top;\n",
       "    }\n",
       "\n",
       "    .dataframe thead th {\n",
       "        text-align: right;\n",
       "    }\n",
       "</style>\n",
       "<table border=\"1\" class=\"dataframe\">\n",
       "  <thead>\n",
       "    <tr style=\"text-align: right;\">\n",
       "      <th></th>\n",
       "      <th>name</th>\n",
       "      <th>datetime</th>\n",
       "      <th>aqi_co</th>\n",
       "      <th>aqi_no2</th>\n",
       "      <th>aqi_o3_1hr</th>\n",
       "      <th>aqi_o3_4hr</th>\n",
       "      <th>aqi_pm10</th>\n",
       "      <th>aqi_pm2_5</th>\n",
       "      <th>aqi_site</th>\n",
       "      <th>time</th>\n",
       "      <th>date</th>\n",
       "      <th>yearmonth</th>\n",
       "    </tr>\n",
       "  </thead>\n",
       "  <tbody>\n",
       "    <tr>\n",
       "      <td>0</td>\n",
       "      <td>Civic</td>\n",
       "      <td>2020-04-15T00:00:00.000</td>\n",
       "      <td>0</td>\n",
       "      <td>0</td>\n",
       "      <td>23</td>\n",
       "      <td>28</td>\n",
       "      <td>36</td>\n",
       "      <td>47</td>\n",
       "      <td>47</td>\n",
       "      <td>21</td>\n",
       "      <td>2020-04-15</td>\n",
       "      <td>2020-04</td>\n",
       "    </tr>\n",
       "    <tr>\n",
       "      <td>1</td>\n",
       "      <td>Florey</td>\n",
       "      <td>2020-04-15T00:00:00.000</td>\n",
       "      <td>5</td>\n",
       "      <td>9</td>\n",
       "      <td>30</td>\n",
       "      <td>36</td>\n",
       "      <td>39</td>\n",
       "      <td>88</td>\n",
       "      <td>88</td>\n",
       "      <td>21</td>\n",
       "      <td>2020-04-15</td>\n",
       "      <td>2020-04</td>\n",
       "    </tr>\n",
       "    <tr>\n",
       "      <td>2</td>\n",
       "      <td>Monash</td>\n",
       "      <td>2020-04-15T00:00:00.000</td>\n",
       "      <td>6</td>\n",
       "      <td>4</td>\n",
       "      <td>29</td>\n",
       "      <td>36</td>\n",
       "      <td>44</td>\n",
       "      <td>62</td>\n",
       "      <td>62</td>\n",
       "      <td>21</td>\n",
       "      <td>2020-04-15</td>\n",
       "      <td>2020-04</td>\n",
       "    </tr>\n",
       "    <tr>\n",
       "      <td>3</td>\n",
       "      <td>Monash</td>\n",
       "      <td>2020-04-14T00:00:00.000</td>\n",
       "      <td>6</td>\n",
       "      <td>11</td>\n",
       "      <td>23</td>\n",
       "      <td>27</td>\n",
       "      <td>33</td>\n",
       "      <td>62</td>\n",
       "      <td>62</td>\n",
       "      <td>23</td>\n",
       "      <td>2020-04-14</td>\n",
       "      <td>2020-04</td>\n",
       "    </tr>\n",
       "    <tr>\n",
       "      <td>4</td>\n",
       "      <td>Civic</td>\n",
       "      <td>2020-04-14T00:00:00.000</td>\n",
       "      <td>0</td>\n",
       "      <td>0</td>\n",
       "      <td>18</td>\n",
       "      <td>20</td>\n",
       "      <td>24</td>\n",
       "      <td>39</td>\n",
       "      <td>39</td>\n",
       "      <td>23</td>\n",
       "      <td>2020-04-14</td>\n",
       "      <td>2020-04</td>\n",
       "    </tr>\n",
       "    <tr>\n",
       "      <td>...</td>\n",
       "      <td>...</td>\n",
       "      <td>...</td>\n",
       "      <td>...</td>\n",
       "      <td>...</td>\n",
       "      <td>...</td>\n",
       "      <td>...</td>\n",
       "      <td>...</td>\n",
       "      <td>...</td>\n",
       "      <td>...</td>\n",
       "      <td>...</td>\n",
       "      <td>...</td>\n",
       "      <td>...</td>\n",
       "    </tr>\n",
       "    <tr>\n",
       "      <td>1993</td>\n",
       "      <td>Monash</td>\n",
       "      <td>2018-06-11T00:00:00.000</td>\n",
       "      <td>10</td>\n",
       "      <td>16</td>\n",
       "      <td>31</td>\n",
       "      <td>38</td>\n",
       "      <td>24</td>\n",
       "      <td>54</td>\n",
       "      <td>54</td>\n",
       "      <td>24</td>\n",
       "      <td>2018-06-11</td>\n",
       "      <td>2018-06</td>\n",
       "    </tr>\n",
       "    <tr>\n",
       "      <td>1994</td>\n",
       "      <td>Florey</td>\n",
       "      <td>2018-06-11T00:00:00.000</td>\n",
       "      <td>10</td>\n",
       "      <td>18</td>\n",
       "      <td>30</td>\n",
       "      <td>36</td>\n",
       "      <td>37</td>\n",
       "      <td>71</td>\n",
       "      <td>71</td>\n",
       "      <td>24</td>\n",
       "      <td>2018-06-11</td>\n",
       "      <td>2018-06</td>\n",
       "    </tr>\n",
       "    <tr>\n",
       "      <td>1997</td>\n",
       "      <td>Florey</td>\n",
       "      <td>2018-06-10T00:00:00.000</td>\n",
       "      <td>14</td>\n",
       "      <td>12</td>\n",
       "      <td>28</td>\n",
       "      <td>34</td>\n",
       "      <td>45</td>\n",
       "      <td>77</td>\n",
       "      <td>77</td>\n",
       "      <td>24</td>\n",
       "      <td>2018-06-10</td>\n",
       "      <td>2018-06</td>\n",
       "    </tr>\n",
       "    <tr>\n",
       "      <td>1998</td>\n",
       "      <td>Monash</td>\n",
       "      <td>2018-06-10T00:00:00.000</td>\n",
       "      <td>12</td>\n",
       "      <td>14</td>\n",
       "      <td>29</td>\n",
       "      <td>35</td>\n",
       "      <td>26</td>\n",
       "      <td>60</td>\n",
       "      <td>60</td>\n",
       "      <td>24</td>\n",
       "      <td>2018-06-10</td>\n",
       "      <td>2018-06</td>\n",
       "    </tr>\n",
       "    <tr>\n",
       "      <td>1999</td>\n",
       "      <td>Monash</td>\n",
       "      <td>2018-06-09T00:00:00.000</td>\n",
       "      <td>9</td>\n",
       "      <td>13</td>\n",
       "      <td>27</td>\n",
       "      <td>32</td>\n",
       "      <td>16</td>\n",
       "      <td>27</td>\n",
       "      <td>32</td>\n",
       "      <td>24</td>\n",
       "      <td>2018-06-09</td>\n",
       "      <td>2018-06</td>\n",
       "    </tr>\n",
       "  </tbody>\n",
       "</table>\n",
       "<p>1276 rows × 12 columns</p>\n",
       "</div>"
      ],
      "text/plain": [
       "        name                 datetime aqi_co aqi_no2 aqi_o3_1hr aqi_o3_4hr  \\\n",
       "0      Civic  2020-04-15T00:00:00.000      0       0         23         28   \n",
       "1     Florey  2020-04-15T00:00:00.000      5       9         30         36   \n",
       "2     Monash  2020-04-15T00:00:00.000      6       4         29         36   \n",
       "3     Monash  2020-04-14T00:00:00.000      6      11         23         27   \n",
       "4      Civic  2020-04-14T00:00:00.000      0       0         18         20   \n",
       "...      ...                      ...    ...     ...        ...        ...   \n",
       "1993  Monash  2018-06-11T00:00:00.000     10      16         31         38   \n",
       "1994  Florey  2018-06-11T00:00:00.000     10      18         30         36   \n",
       "1997  Florey  2018-06-10T00:00:00.000     14      12         28         34   \n",
       "1998  Monash  2018-06-10T00:00:00.000     12      14         29         35   \n",
       "1999  Monash  2018-06-09T00:00:00.000      9      13         27         32   \n",
       "\n",
       "     aqi_pm10 aqi_pm2_5 aqi_site time        date yearmonth  \n",
       "0          36        47       47   21  2020-04-15   2020-04  \n",
       "1          39        88       88   21  2020-04-15   2020-04  \n",
       "2          44        62       62   21  2020-04-15   2020-04  \n",
       "3          33        62       62   23  2020-04-14   2020-04  \n",
       "4          24        39       39   23  2020-04-14   2020-04  \n",
       "...       ...       ...      ...  ...         ...       ...  \n",
       "1993       24        54       54   24  2018-06-11   2018-06  \n",
       "1994       37        71       71   24  2018-06-11   2018-06  \n",
       "1997       45        77       77   24  2018-06-10   2018-06  \n",
       "1998       26        60       60   24  2018-06-10   2018-06  \n",
       "1999       16        27       32   24  2018-06-09   2018-06  \n",
       "\n",
       "[1276 rows x 12 columns]"
      ]
     },
     "execution_count": 10,
     "metadata": {},
     "output_type": "execute_result"
    }
   ],
   "source": [
    "air"
   ]
  },
  {
   "cell_type": "code",
   "execution_count": null,
   "metadata": {},
   "outputs": [],
   "source": []
  },
  {
   "cell_type": "markdown",
   "metadata": {},
   "source": [
    "We have to convert the dates to sequential integers"
   ]
  },
  {
   "cell_type": "code",
   "execution_count": 11,
   "metadata": {},
   "outputs": [],
   "source": [
    "\n",
    "air.aqi_co = air.aqi_co.astype(int) \n",
    "air.aqi_no2 = air.aqi_no2.astype(int) \n",
    "air.aqi_o3_1hr = air.aqi_o3_1hr.astype(int) \n",
    "air.aqi_o3_4hr = air.aqi_o3_4hr.astype(int) \n",
    "air.aqi_pm10 = air.aqi_pm10.astype(int) \n",
    "air.aqi_pm2_5 = air.aqi_pm2_5.astype(int)\n",
    "air.aqi_pm2_5 = air.aqi_pm2_5.astype(int)\n",
    "air.aqi_site = air.aqi_site.astype(int)"
   ]
  },
  {
   "cell_type": "code",
   "execution_count": null,
   "metadata": {},
   "outputs": [],
   "source": []
  },
  {
   "cell_type": "code",
   "execution_count": null,
   "metadata": {},
   "outputs": [],
   "source": []
  },
  {
   "cell_type": "markdown",
   "metadata": {},
   "source": [
    "We average the readings per year month"
   ]
  },
  {
   "cell_type": "code",
   "execution_count": 12,
   "metadata": {},
   "outputs": [],
   "source": [
    "air_monthly_mean = air.groupby(by='yearmonth').mean()\n",
    "air_monthly_mean.reset_index(inplace=True)"
   ]
  },
  {
   "cell_type": "code",
   "execution_count": 13,
   "metadata": {},
   "outputs": [
    {
     "data": {
      "text/html": [
       "<div>\n",
       "<style scoped>\n",
       "    .dataframe tbody tr th:only-of-type {\n",
       "        vertical-align: middle;\n",
       "    }\n",
       "\n",
       "    .dataframe tbody tr th {\n",
       "        vertical-align: top;\n",
       "    }\n",
       "\n",
       "    .dataframe thead th {\n",
       "        text-align: right;\n",
       "    }\n",
       "</style>\n",
       "<table border=\"1\" class=\"dataframe\">\n",
       "  <thead>\n",
       "    <tr style=\"text-align: right;\">\n",
       "      <th></th>\n",
       "      <th>yearmonth</th>\n",
       "      <th>aqi_co</th>\n",
       "      <th>aqi_no2</th>\n",
       "      <th>aqi_o3_1hr</th>\n",
       "      <th>aqi_o3_4hr</th>\n",
       "      <th>aqi_pm10</th>\n",
       "      <th>aqi_pm2_5</th>\n",
       "      <th>aqi_site</th>\n",
       "    </tr>\n",
       "  </thead>\n",
       "  <tbody>\n",
       "    <tr>\n",
       "      <td>0</td>\n",
       "      <td>2018-06</td>\n",
       "      <td>8.558140</td>\n",
       "      <td>13.906977</td>\n",
       "      <td>28.023256</td>\n",
       "      <td>33.883721</td>\n",
       "      <td>26.162791</td>\n",
       "      <td>49.372093</td>\n",
       "      <td>56.488372</td>\n",
       "    </tr>\n",
       "    <tr>\n",
       "      <td>1</td>\n",
       "      <td>2018-07</td>\n",
       "      <td>7.916667</td>\n",
       "      <td>15.100000</td>\n",
       "      <td>29.983333</td>\n",
       "      <td>36.216667</td>\n",
       "      <td>31.816667</td>\n",
       "      <td>56.116667</td>\n",
       "      <td>61.950000</td>\n",
       "    </tr>\n",
       "    <tr>\n",
       "      <td>2</td>\n",
       "      <td>2018-08</td>\n",
       "      <td>5.532258</td>\n",
       "      <td>14.758065</td>\n",
       "      <td>32.241935</td>\n",
       "      <td>39.403226</td>\n",
       "      <td>25.193548</td>\n",
       "      <td>38.854839</td>\n",
       "      <td>47.387097</td>\n",
       "    </tr>\n",
       "    <tr>\n",
       "      <td>3</td>\n",
       "      <td>2018-09</td>\n",
       "      <td>4.216667</td>\n",
       "      <td>14.933333</td>\n",
       "      <td>32.616667</td>\n",
       "      <td>40.000000</td>\n",
       "      <td>23.383333</td>\n",
       "      <td>30.566667</td>\n",
       "      <td>41.266667</td>\n",
       "    </tr>\n",
       "    <tr>\n",
       "      <td>4</td>\n",
       "      <td>2018-10</td>\n",
       "      <td>2.387097</td>\n",
       "      <td>9.596774</td>\n",
       "      <td>37.354839</td>\n",
       "      <td>45.161290</td>\n",
       "      <td>22.709677</td>\n",
       "      <td>20.548387</td>\n",
       "      <td>46.112903</td>\n",
       "    </tr>\n",
       "    <tr>\n",
       "      <td>5</td>\n",
       "      <td>2018-11</td>\n",
       "      <td>1.745763</td>\n",
       "      <td>8.220339</td>\n",
       "      <td>35.711864</td>\n",
       "      <td>43.322034</td>\n",
       "      <td>29.118644</td>\n",
       "      <td>24.474576</td>\n",
       "      <td>50.000000</td>\n",
       "    </tr>\n",
       "    <tr>\n",
       "      <td>6</td>\n",
       "      <td>2018-12</td>\n",
       "      <td>2.442308</td>\n",
       "      <td>9.076923</td>\n",
       "      <td>39.769231</td>\n",
       "      <td>48.000000</td>\n",
       "      <td>46.634615</td>\n",
       "      <td>35.980769</td>\n",
       "      <td>69.057692</td>\n",
       "    </tr>\n",
       "    <tr>\n",
       "      <td>7</td>\n",
       "      <td>2019-01</td>\n",
       "      <td>3.327586</td>\n",
       "      <td>8.620690</td>\n",
       "      <td>53.034483</td>\n",
       "      <td>63.068966</td>\n",
       "      <td>42.741379</td>\n",
       "      <td>37.206897</td>\n",
       "      <td>66.810345</td>\n",
       "    </tr>\n",
       "    <tr>\n",
       "      <td>8</td>\n",
       "      <td>2019-02</td>\n",
       "      <td>1.821429</td>\n",
       "      <td>7.267857</td>\n",
       "      <td>37.196429</td>\n",
       "      <td>44.785714</td>\n",
       "      <td>58.607143</td>\n",
       "      <td>33.660714</td>\n",
       "      <td>72.375000</td>\n",
       "    </tr>\n",
       "    <tr>\n",
       "      <td>9</td>\n",
       "      <td>2019-03</td>\n",
       "      <td>2.048387</td>\n",
       "      <td>9.564516</td>\n",
       "      <td>34.403226</td>\n",
       "      <td>41.403226</td>\n",
       "      <td>31.709677</td>\n",
       "      <td>34.677419</td>\n",
       "      <td>48.080645</td>\n",
       "    </tr>\n",
       "    <tr>\n",
       "      <td>10</td>\n",
       "      <td>2019-04</td>\n",
       "      <td>3.500000</td>\n",
       "      <td>14.942308</td>\n",
       "      <td>32.653846</td>\n",
       "      <td>39.576923</td>\n",
       "      <td>33.807692</td>\n",
       "      <td>36.807692</td>\n",
       "      <td>46.346154</td>\n",
       "    </tr>\n",
       "    <tr>\n",
       "      <td>11</td>\n",
       "      <td>2019-05</td>\n",
       "      <td>7.000000</td>\n",
       "      <td>14.235294</td>\n",
       "      <td>25.764706</td>\n",
       "      <td>28.352941</td>\n",
       "      <td>34.058824</td>\n",
       "      <td>53.529412</td>\n",
       "      <td>55.117647</td>\n",
       "    </tr>\n",
       "    <tr>\n",
       "      <td>12</td>\n",
       "      <td>2019-06</td>\n",
       "      <td>7.933333</td>\n",
       "      <td>14.233333</td>\n",
       "      <td>25.400000</td>\n",
       "      <td>30.300000</td>\n",
       "      <td>30.900000</td>\n",
       "      <td>57.666667</td>\n",
       "      <td>58.766667</td>\n",
       "    </tr>\n",
       "    <tr>\n",
       "      <td>13</td>\n",
       "      <td>2019-07</td>\n",
       "      <td>6.533333</td>\n",
       "      <td>14.022222</td>\n",
       "      <td>26.733333</td>\n",
       "      <td>32.355556</td>\n",
       "      <td>25.177778</td>\n",
       "      <td>46.866667</td>\n",
       "      <td>52.977778</td>\n",
       "    </tr>\n",
       "    <tr>\n",
       "      <td>14</td>\n",
       "      <td>2019-08</td>\n",
       "      <td>5.229508</td>\n",
       "      <td>13.016393</td>\n",
       "      <td>30.098361</td>\n",
       "      <td>36.622951</td>\n",
       "      <td>23.131148</td>\n",
       "      <td>41.770492</td>\n",
       "      <td>49.409836</td>\n",
       "    </tr>\n",
       "    <tr>\n",
       "      <td>15</td>\n",
       "      <td>2019-09</td>\n",
       "      <td>4.133333</td>\n",
       "      <td>45.250000</td>\n",
       "      <td>32.583333</td>\n",
       "      <td>39.766667</td>\n",
       "      <td>35.500000</td>\n",
       "      <td>38.383333</td>\n",
       "      <td>77.283333</td>\n",
       "    </tr>\n",
       "    <tr>\n",
       "      <td>16</td>\n",
       "      <td>2019-10</td>\n",
       "      <td>2.066667</td>\n",
       "      <td>12.466667</td>\n",
       "      <td>38.333333</td>\n",
       "      <td>46.700000</td>\n",
       "      <td>38.183333</td>\n",
       "      <td>31.250000</td>\n",
       "      <td>56.033333</td>\n",
       "    </tr>\n",
       "    <tr>\n",
       "      <td>17</td>\n",
       "      <td>2019-11</td>\n",
       "      <td>2.457627</td>\n",
       "      <td>10.237288</td>\n",
       "      <td>40.271186</td>\n",
       "      <td>47.898305</td>\n",
       "      <td>85.576271</td>\n",
       "      <td>72.186441</td>\n",
       "      <td>108.271186</td>\n",
       "    </tr>\n",
       "    <tr>\n",
       "      <td>18</td>\n",
       "      <td>2019-12</td>\n",
       "      <td>17.100000</td>\n",
       "      <td>11.466667</td>\n",
       "      <td>60.950000</td>\n",
       "      <td>71.000000</td>\n",
       "      <td>222.383333</td>\n",
       "      <td>403.616667</td>\n",
       "      <td>407.283333</td>\n",
       "    </tr>\n",
       "    <tr>\n",
       "      <td>19</td>\n",
       "      <td>2020-01</td>\n",
       "      <td>26.935484</td>\n",
       "      <td>18.322581</td>\n",
       "      <td>61.806452</td>\n",
       "      <td>73.290323</td>\n",
       "      <td>423.774194</td>\n",
       "      <td>777.596774</td>\n",
       "      <td>793.467742</td>\n",
       "    </tr>\n",
       "    <tr>\n",
       "      <td>20</td>\n",
       "      <td>2020-02</td>\n",
       "      <td>2.603448</td>\n",
       "      <td>8.172414</td>\n",
       "      <td>38.948276</td>\n",
       "      <td>47.051724</td>\n",
       "      <td>50.827586</td>\n",
       "      <td>49.344828</td>\n",
       "      <td>75.568966</td>\n",
       "    </tr>\n",
       "    <tr>\n",
       "      <td>21</td>\n",
       "      <td>2020-03</td>\n",
       "      <td>0.569892</td>\n",
       "      <td>4.451613</td>\n",
       "      <td>28.741935</td>\n",
       "      <td>34.763441</td>\n",
       "      <td>23.290323</td>\n",
       "      <td>20.666667</td>\n",
       "      <td>36.956989</td>\n",
       "    </tr>\n",
       "    <tr>\n",
       "      <td>22</td>\n",
       "      <td>2020-04</td>\n",
       "      <td>0.888889</td>\n",
       "      <td>4.177778</td>\n",
       "      <td>27.666667</td>\n",
       "      <td>31.066667</td>\n",
       "      <td>19.622222</td>\n",
       "      <td>27.577778</td>\n",
       "      <td>37.155556</td>\n",
       "    </tr>\n",
       "  </tbody>\n",
       "</table>\n",
       "</div>"
      ],
      "text/plain": [
       "   yearmonth     aqi_co    aqi_no2  aqi_o3_1hr  aqi_o3_4hr    aqi_pm10  \\\n",
       "0    2018-06   8.558140  13.906977   28.023256   33.883721   26.162791   \n",
       "1    2018-07   7.916667  15.100000   29.983333   36.216667   31.816667   \n",
       "2    2018-08   5.532258  14.758065   32.241935   39.403226   25.193548   \n",
       "3    2018-09   4.216667  14.933333   32.616667   40.000000   23.383333   \n",
       "4    2018-10   2.387097   9.596774   37.354839   45.161290   22.709677   \n",
       "5    2018-11   1.745763   8.220339   35.711864   43.322034   29.118644   \n",
       "6    2018-12   2.442308   9.076923   39.769231   48.000000   46.634615   \n",
       "7    2019-01   3.327586   8.620690   53.034483   63.068966   42.741379   \n",
       "8    2019-02   1.821429   7.267857   37.196429   44.785714   58.607143   \n",
       "9    2019-03   2.048387   9.564516   34.403226   41.403226   31.709677   \n",
       "10   2019-04   3.500000  14.942308   32.653846   39.576923   33.807692   \n",
       "11   2019-05   7.000000  14.235294   25.764706   28.352941   34.058824   \n",
       "12   2019-06   7.933333  14.233333   25.400000   30.300000   30.900000   \n",
       "13   2019-07   6.533333  14.022222   26.733333   32.355556   25.177778   \n",
       "14   2019-08   5.229508  13.016393   30.098361   36.622951   23.131148   \n",
       "15   2019-09   4.133333  45.250000   32.583333   39.766667   35.500000   \n",
       "16   2019-10   2.066667  12.466667   38.333333   46.700000   38.183333   \n",
       "17   2019-11   2.457627  10.237288   40.271186   47.898305   85.576271   \n",
       "18   2019-12  17.100000  11.466667   60.950000   71.000000  222.383333   \n",
       "19   2020-01  26.935484  18.322581   61.806452   73.290323  423.774194   \n",
       "20   2020-02   2.603448   8.172414   38.948276   47.051724   50.827586   \n",
       "21   2020-03   0.569892   4.451613   28.741935   34.763441   23.290323   \n",
       "22   2020-04   0.888889   4.177778   27.666667   31.066667   19.622222   \n",
       "\n",
       "     aqi_pm2_5    aqi_site  \n",
       "0    49.372093   56.488372  \n",
       "1    56.116667   61.950000  \n",
       "2    38.854839   47.387097  \n",
       "3    30.566667   41.266667  \n",
       "4    20.548387   46.112903  \n",
       "5    24.474576   50.000000  \n",
       "6    35.980769   69.057692  \n",
       "7    37.206897   66.810345  \n",
       "8    33.660714   72.375000  \n",
       "9    34.677419   48.080645  \n",
       "10   36.807692   46.346154  \n",
       "11   53.529412   55.117647  \n",
       "12   57.666667   58.766667  \n",
       "13   46.866667   52.977778  \n",
       "14   41.770492   49.409836  \n",
       "15   38.383333   77.283333  \n",
       "16   31.250000   56.033333  \n",
       "17   72.186441  108.271186  \n",
       "18  403.616667  407.283333  \n",
       "19  777.596774  793.467742  \n",
       "20   49.344828   75.568966  \n",
       "21   20.666667   36.956989  \n",
       "22   27.577778   37.155556  "
      ]
     },
     "execution_count": 13,
     "metadata": {},
     "output_type": "execute_result"
    }
   ],
   "source": [
    "air_monthly_mean"
   ]
  },
  {
   "cell_type": "code",
   "execution_count": 14,
   "metadata": {},
   "outputs": [
    {
     "data": {
      "text/plain": [
       "[<matplotlib.lines.Line2D at 0x1c299ab750>]"
      ]
     },
     "execution_count": 14,
     "metadata": {},
     "output_type": "execute_result"
    }
   ],
   "source": [
    "fig = plt.figure()\n",
    "%matplotlib inline\n",
    "axes = fig.add_axes([0.1,0.1,0.8,0.8])\n",
    "axes.plot(air_monthly_mean['yearmonth'], air_monthly_mean['aqi_co'])\n"
   ]
  },
  {
   "cell_type": "code",
   "execution_count": 15,
   "metadata": {},
   "outputs": [
    {
     "data": {
      "text/html": [
       "        <script type=\"text/javascript\">\n",
       "        window.PlotlyConfig = {MathJaxConfig: 'local'};\n",
       "        if (window.MathJax) {MathJax.Hub.Config({SVG: {font: \"STIX-Web\"}});}\n",
       "        if (typeof require !== 'undefined') {\n",
       "        require.undef(\"plotly\");\n",
       "        requirejs.config({\n",
       "            paths: {\n",
       "                'plotly': ['https://cdn.plot.ly/plotly-latest.min']\n",
       "            }\n",
       "        });\n",
       "        require(['plotly'], function(Plotly) {\n",
       "            window._Plotly = Plotly;\n",
       "        });\n",
       "        }\n",
       "        </script>\n",
       "        "
      ]
     },
     "metadata": {},
     "output_type": "display_data"
    },
    {
     "data": {
      "text/html": [
       "        <script type=\"text/javascript\">\n",
       "        window.PlotlyConfig = {MathJaxConfig: 'local'};\n",
       "        if (window.MathJax) {MathJax.Hub.Config({SVG: {font: \"STIX-Web\"}});}\n",
       "        if (typeof require !== 'undefined') {\n",
       "        require.undef(\"plotly\");\n",
       "        requirejs.config({\n",
       "            paths: {\n",
       "                'plotly': ['https://cdn.plot.ly/plotly-latest.min']\n",
       "            }\n",
       "        });\n",
       "        require(['plotly'], function(Plotly) {\n",
       "            window._Plotly = Plotly;\n",
       "        });\n",
       "        }\n",
       "        </script>\n",
       "        "
      ]
     },
     "metadata": {},
     "output_type": "display_data"
    }
   ],
   "source": [
    "init_notebook_mode(connected=True)\n",
    "cf.go_offline()"
   ]
  },
  {
   "cell_type": "code",
   "execution_count": 16,
   "metadata": {},
   "outputs": [
    {
     "data": {
      "application/vnd.plotly.v1+json": {
       "config": {
        "linkText": "Export to plot.ly",
        "plotlyServerURL": "https://plot.ly",
        "showLink": true
       },
       "data": [
        {
         "line": {
          "color": "rgba(255, 153, 51, 1.0)",
          "dash": "solid",
          "shape": "linear",
          "width": 1.3
         },
         "mode": "lines",
         "name": "aqi_co",
         "text": "",
         "type": "scatter",
         "x": [
          "2018-06",
          "2018-07",
          "2018-08",
          "2018-09",
          "2018-10",
          "2018-11",
          "2018-12",
          "2019-01",
          "2019-02",
          "2019-03",
          "2019-04",
          "2019-05",
          "2019-06",
          "2019-07",
          "2019-08",
          "2019-09",
          "2019-10",
          "2019-11",
          "2019-12",
          "2020-01",
          "2020-02",
          "2020-03",
          "2020-04"
         ],
         "y": [
          8.55813953488372,
          7.916666666666667,
          5.532258064516129,
          4.216666666666667,
          2.3870967741935485,
          1.7457627118644068,
          2.4423076923076925,
          3.3275862068965516,
          1.8214285714285714,
          2.0483870967741935,
          3.5,
          7,
          7.933333333333334,
          6.533333333333333,
          5.229508196721311,
          4.133333333333334,
          2.066666666666667,
          2.457627118644068,
          17.1,
          26.93548387096774,
          2.603448275862069,
          0.5698924731182796,
          0.8888888888888888
         ]
        },
        {
         "line": {
          "color": "rgba(55, 128, 191, 1.0)",
          "dash": "solid",
          "shape": "linear",
          "width": 1.3
         },
         "mode": "lines",
         "name": "aqi_no2",
         "text": "",
         "type": "scatter",
         "x": [
          "2018-06",
          "2018-07",
          "2018-08",
          "2018-09",
          "2018-10",
          "2018-11",
          "2018-12",
          "2019-01",
          "2019-02",
          "2019-03",
          "2019-04",
          "2019-05",
          "2019-06",
          "2019-07",
          "2019-08",
          "2019-09",
          "2019-10",
          "2019-11",
          "2019-12",
          "2020-01",
          "2020-02",
          "2020-03",
          "2020-04"
         ],
         "y": [
          13.906976744186046,
          15.1,
          14.758064516129032,
          14.933333333333334,
          9.596774193548388,
          8.220338983050848,
          9.076923076923077,
          8.620689655172415,
          7.267857142857143,
          9.564516129032258,
          14.942307692307692,
          14.235294117647058,
          14.233333333333333,
          14.022222222222222,
          13.01639344262295,
          45.25,
          12.466666666666667,
          10.23728813559322,
          11.466666666666667,
          18.322580645161292,
          8.172413793103448,
          4.451612903225806,
          4.177777777777778
         ]
        },
        {
         "line": {
          "color": "rgba(50, 171, 96, 1.0)",
          "dash": "solid",
          "shape": "linear",
          "width": 1.3
         },
         "mode": "lines",
         "name": "aqi_o3_1hr",
         "text": "",
         "type": "scatter",
         "x": [
          "2018-06",
          "2018-07",
          "2018-08",
          "2018-09",
          "2018-10",
          "2018-11",
          "2018-12",
          "2019-01",
          "2019-02",
          "2019-03",
          "2019-04",
          "2019-05",
          "2019-06",
          "2019-07",
          "2019-08",
          "2019-09",
          "2019-10",
          "2019-11",
          "2019-12",
          "2020-01",
          "2020-02",
          "2020-03",
          "2020-04"
         ],
         "y": [
          28.023255813953487,
          29.983333333333334,
          32.24193548387097,
          32.61666666666667,
          37.354838709677416,
          35.71186440677966,
          39.76923076923077,
          53.03448275862069,
          37.19642857142857,
          34.403225806451616,
          32.65384615384615,
          25.764705882352942,
          25.4,
          26.733333333333334,
          30.098360655737704,
          32.583333333333336,
          38.333333333333336,
          40.271186440677965,
          60.95,
          61.806451612903224,
          38.94827586206897,
          28.741935483870968,
          27.666666666666668
         ]
        },
        {
         "line": {
          "color": "rgba(128, 0, 128, 1.0)",
          "dash": "solid",
          "shape": "linear",
          "width": 1.3
         },
         "mode": "lines",
         "name": "aqi_o3_4hr",
         "text": "",
         "type": "scatter",
         "x": [
          "2018-06",
          "2018-07",
          "2018-08",
          "2018-09",
          "2018-10",
          "2018-11",
          "2018-12",
          "2019-01",
          "2019-02",
          "2019-03",
          "2019-04",
          "2019-05",
          "2019-06",
          "2019-07",
          "2019-08",
          "2019-09",
          "2019-10",
          "2019-11",
          "2019-12",
          "2020-01",
          "2020-02",
          "2020-03",
          "2020-04"
         ],
         "y": [
          33.883720930232556,
          36.21666666666667,
          39.403225806451616,
          40,
          45.16129032258065,
          43.32203389830509,
          48,
          63.06896551724138,
          44.785714285714285,
          41.403225806451616,
          39.57692307692308,
          28.352941176470587,
          30.3,
          32.355555555555554,
          36.622950819672134,
          39.766666666666666,
          46.7,
          47.898305084745765,
          71,
          73.29032258064517,
          47.05172413793103,
          34.763440860215056,
          31.066666666666666
         ]
        },
        {
         "line": {
          "color": "rgba(219, 64, 82, 1.0)",
          "dash": "solid",
          "shape": "linear",
          "width": 1.3
         },
         "mode": "lines",
         "name": "aqi_pm10",
         "text": "",
         "type": "scatter",
         "x": [
          "2018-06",
          "2018-07",
          "2018-08",
          "2018-09",
          "2018-10",
          "2018-11",
          "2018-12",
          "2019-01",
          "2019-02",
          "2019-03",
          "2019-04",
          "2019-05",
          "2019-06",
          "2019-07",
          "2019-08",
          "2019-09",
          "2019-10",
          "2019-11",
          "2019-12",
          "2020-01",
          "2020-02",
          "2020-03",
          "2020-04"
         ],
         "y": [
          26.162790697674417,
          31.816666666666666,
          25.193548387096776,
          23.383333333333333,
          22.70967741935484,
          29.11864406779661,
          46.63461538461539,
          42.741379310344826,
          58.607142857142854,
          31.70967741935484,
          33.80769230769231,
          34.05882352941177,
          30.9,
          25.177777777777777,
          23.131147540983605,
          35.5,
          38.18333333333333,
          85.57627118644068,
          222.38333333333333,
          423.7741935483871,
          50.827586206896555,
          23.29032258064516,
          19.622222222222224
         ]
        },
        {
         "line": {
          "color": "rgba(0, 128, 128, 1.0)",
          "dash": "solid",
          "shape": "linear",
          "width": 1.3
         },
         "mode": "lines",
         "name": "aqi_pm2_5",
         "text": "",
         "type": "scatter",
         "x": [
          "2018-06",
          "2018-07",
          "2018-08",
          "2018-09",
          "2018-10",
          "2018-11",
          "2018-12",
          "2019-01",
          "2019-02",
          "2019-03",
          "2019-04",
          "2019-05",
          "2019-06",
          "2019-07",
          "2019-08",
          "2019-09",
          "2019-10",
          "2019-11",
          "2019-12",
          "2020-01",
          "2020-02",
          "2020-03",
          "2020-04"
         ],
         "y": [
          49.372093023255815,
          56.11666666666667,
          38.854838709677416,
          30.566666666666666,
          20.548387096774192,
          24.47457627118644,
          35.98076923076923,
          37.206896551724135,
          33.660714285714285,
          34.67741935483871,
          36.80769230769231,
          53.529411764705884,
          57.666666666666664,
          46.86666666666667,
          41.77049180327869,
          38.38333333333333,
          31.25,
          72.1864406779661,
          403.6166666666667,
          777.5967741935484,
          49.3448275862069,
          20.666666666666668,
          27.57777777777778
         ]
        },
        {
         "line": {
          "color": "rgba(255, 255, 51, 1.0)",
          "dash": "solid",
          "shape": "linear",
          "width": 1.3
         },
         "mode": "lines",
         "name": "aqi_site",
         "text": "",
         "type": "scatter",
         "x": [
          "2018-06",
          "2018-07",
          "2018-08",
          "2018-09",
          "2018-10",
          "2018-11",
          "2018-12",
          "2019-01",
          "2019-02",
          "2019-03",
          "2019-04",
          "2019-05",
          "2019-06",
          "2019-07",
          "2019-08",
          "2019-09",
          "2019-10",
          "2019-11",
          "2019-12",
          "2020-01",
          "2020-02",
          "2020-03",
          "2020-04"
         ],
         "y": [
          56.48837209302326,
          61.95,
          47.38709677419355,
          41.266666666666666,
          46.11290322580645,
          50,
          69.0576923076923,
          66.8103448275862,
          72.375,
          48.08064516129032,
          46.34615384615385,
          55.11764705882353,
          58.766666666666666,
          52.977777777777774,
          49.40983606557377,
          77.28333333333333,
          56.03333333333333,
          108.27118644067797,
          407.28333333333336,
          793.4677419354839,
          75.56896551724138,
          36.956989247311824,
          37.15555555555556
         ]
        }
       ],
       "layout": {
        "legend": {
         "bgcolor": "#F5F6F9",
         "font": {
          "color": "#4D5663"
         }
        },
        "paper_bgcolor": "#F5F6F9",
        "plot_bgcolor": "#F5F6F9",
        "template": {
         "data": {
          "bar": [
           {
            "error_x": {
             "color": "#2a3f5f"
            },
            "error_y": {
             "color": "#2a3f5f"
            },
            "marker": {
             "line": {
              "color": "#E5ECF6",
              "width": 0.5
             }
            },
            "type": "bar"
           }
          ],
          "barpolar": [
           {
            "marker": {
             "line": {
              "color": "#E5ECF6",
              "width": 0.5
             }
            },
            "type": "barpolar"
           }
          ],
          "carpet": [
           {
            "aaxis": {
             "endlinecolor": "#2a3f5f",
             "gridcolor": "white",
             "linecolor": "white",
             "minorgridcolor": "white",
             "startlinecolor": "#2a3f5f"
            },
            "baxis": {
             "endlinecolor": "#2a3f5f",
             "gridcolor": "white",
             "linecolor": "white",
             "minorgridcolor": "white",
             "startlinecolor": "#2a3f5f"
            },
            "type": "carpet"
           }
          ],
          "choropleth": [
           {
            "colorbar": {
             "outlinewidth": 0,
             "ticks": ""
            },
            "type": "choropleth"
           }
          ],
          "contour": [
           {
            "colorbar": {
             "outlinewidth": 0,
             "ticks": ""
            },
            "colorscale": [
             [
              0,
              "#0d0887"
             ],
             [
              0.1111111111111111,
              "#46039f"
             ],
             [
              0.2222222222222222,
              "#7201a8"
             ],
             [
              0.3333333333333333,
              "#9c179e"
             ],
             [
              0.4444444444444444,
              "#bd3786"
             ],
             [
              0.5555555555555556,
              "#d8576b"
             ],
             [
              0.6666666666666666,
              "#ed7953"
             ],
             [
              0.7777777777777778,
              "#fb9f3a"
             ],
             [
              0.8888888888888888,
              "#fdca26"
             ],
             [
              1,
              "#f0f921"
             ]
            ],
            "type": "contour"
           }
          ],
          "contourcarpet": [
           {
            "colorbar": {
             "outlinewidth": 0,
             "ticks": ""
            },
            "type": "contourcarpet"
           }
          ],
          "heatmap": [
           {
            "colorbar": {
             "outlinewidth": 0,
             "ticks": ""
            },
            "colorscale": [
             [
              0,
              "#0d0887"
             ],
             [
              0.1111111111111111,
              "#46039f"
             ],
             [
              0.2222222222222222,
              "#7201a8"
             ],
             [
              0.3333333333333333,
              "#9c179e"
             ],
             [
              0.4444444444444444,
              "#bd3786"
             ],
             [
              0.5555555555555556,
              "#d8576b"
             ],
             [
              0.6666666666666666,
              "#ed7953"
             ],
             [
              0.7777777777777778,
              "#fb9f3a"
             ],
             [
              0.8888888888888888,
              "#fdca26"
             ],
             [
              1,
              "#f0f921"
             ]
            ],
            "type": "heatmap"
           }
          ],
          "heatmapgl": [
           {
            "colorbar": {
             "outlinewidth": 0,
             "ticks": ""
            },
            "colorscale": [
             [
              0,
              "#0d0887"
             ],
             [
              0.1111111111111111,
              "#46039f"
             ],
             [
              0.2222222222222222,
              "#7201a8"
             ],
             [
              0.3333333333333333,
              "#9c179e"
             ],
             [
              0.4444444444444444,
              "#bd3786"
             ],
             [
              0.5555555555555556,
              "#d8576b"
             ],
             [
              0.6666666666666666,
              "#ed7953"
             ],
             [
              0.7777777777777778,
              "#fb9f3a"
             ],
             [
              0.8888888888888888,
              "#fdca26"
             ],
             [
              1,
              "#f0f921"
             ]
            ],
            "type": "heatmapgl"
           }
          ],
          "histogram": [
           {
            "marker": {
             "colorbar": {
              "outlinewidth": 0,
              "ticks": ""
             }
            },
            "type": "histogram"
           }
          ],
          "histogram2d": [
           {
            "colorbar": {
             "outlinewidth": 0,
             "ticks": ""
            },
            "colorscale": [
             [
              0,
              "#0d0887"
             ],
             [
              0.1111111111111111,
              "#46039f"
             ],
             [
              0.2222222222222222,
              "#7201a8"
             ],
             [
              0.3333333333333333,
              "#9c179e"
             ],
             [
              0.4444444444444444,
              "#bd3786"
             ],
             [
              0.5555555555555556,
              "#d8576b"
             ],
             [
              0.6666666666666666,
              "#ed7953"
             ],
             [
              0.7777777777777778,
              "#fb9f3a"
             ],
             [
              0.8888888888888888,
              "#fdca26"
             ],
             [
              1,
              "#f0f921"
             ]
            ],
            "type": "histogram2d"
           }
          ],
          "histogram2dcontour": [
           {
            "colorbar": {
             "outlinewidth": 0,
             "ticks": ""
            },
            "colorscale": [
             [
              0,
              "#0d0887"
             ],
             [
              0.1111111111111111,
              "#46039f"
             ],
             [
              0.2222222222222222,
              "#7201a8"
             ],
             [
              0.3333333333333333,
              "#9c179e"
             ],
             [
              0.4444444444444444,
              "#bd3786"
             ],
             [
              0.5555555555555556,
              "#d8576b"
             ],
             [
              0.6666666666666666,
              "#ed7953"
             ],
             [
              0.7777777777777778,
              "#fb9f3a"
             ],
             [
              0.8888888888888888,
              "#fdca26"
             ],
             [
              1,
              "#f0f921"
             ]
            ],
            "type": "histogram2dcontour"
           }
          ],
          "mesh3d": [
           {
            "colorbar": {
             "outlinewidth": 0,
             "ticks": ""
            },
            "type": "mesh3d"
           }
          ],
          "parcoords": [
           {
            "line": {
             "colorbar": {
              "outlinewidth": 0,
              "ticks": ""
             }
            },
            "type": "parcoords"
           }
          ],
          "pie": [
           {
            "automargin": true,
            "type": "pie"
           }
          ],
          "scatter": [
           {
            "marker": {
             "colorbar": {
              "outlinewidth": 0,
              "ticks": ""
             }
            },
            "type": "scatter"
           }
          ],
          "scatter3d": [
           {
            "line": {
             "colorbar": {
              "outlinewidth": 0,
              "ticks": ""
             }
            },
            "marker": {
             "colorbar": {
              "outlinewidth": 0,
              "ticks": ""
             }
            },
            "type": "scatter3d"
           }
          ],
          "scattercarpet": [
           {
            "marker": {
             "colorbar": {
              "outlinewidth": 0,
              "ticks": ""
             }
            },
            "type": "scattercarpet"
           }
          ],
          "scattergeo": [
           {
            "marker": {
             "colorbar": {
              "outlinewidth": 0,
              "ticks": ""
             }
            },
            "type": "scattergeo"
           }
          ],
          "scattergl": [
           {
            "marker": {
             "colorbar": {
              "outlinewidth": 0,
              "ticks": ""
             }
            },
            "type": "scattergl"
           }
          ],
          "scattermapbox": [
           {
            "marker": {
             "colorbar": {
              "outlinewidth": 0,
              "ticks": ""
             }
            },
            "type": "scattermapbox"
           }
          ],
          "scatterpolar": [
           {
            "marker": {
             "colorbar": {
              "outlinewidth": 0,
              "ticks": ""
             }
            },
            "type": "scatterpolar"
           }
          ],
          "scatterpolargl": [
           {
            "marker": {
             "colorbar": {
              "outlinewidth": 0,
              "ticks": ""
             }
            },
            "type": "scatterpolargl"
           }
          ],
          "scatterternary": [
           {
            "marker": {
             "colorbar": {
              "outlinewidth": 0,
              "ticks": ""
             }
            },
            "type": "scatterternary"
           }
          ],
          "surface": [
           {
            "colorbar": {
             "outlinewidth": 0,
             "ticks": ""
            },
            "colorscale": [
             [
              0,
              "#0d0887"
             ],
             [
              0.1111111111111111,
              "#46039f"
             ],
             [
              0.2222222222222222,
              "#7201a8"
             ],
             [
              0.3333333333333333,
              "#9c179e"
             ],
             [
              0.4444444444444444,
              "#bd3786"
             ],
             [
              0.5555555555555556,
              "#d8576b"
             ],
             [
              0.6666666666666666,
              "#ed7953"
             ],
             [
              0.7777777777777778,
              "#fb9f3a"
             ],
             [
              0.8888888888888888,
              "#fdca26"
             ],
             [
              1,
              "#f0f921"
             ]
            ],
            "type": "surface"
           }
          ],
          "table": [
           {
            "cells": {
             "fill": {
              "color": "#EBF0F8"
             },
             "line": {
              "color": "white"
             }
            },
            "header": {
             "fill": {
              "color": "#C8D4E3"
             },
             "line": {
              "color": "white"
             }
            },
            "type": "table"
           }
          ]
         },
         "layout": {
          "annotationdefaults": {
           "arrowcolor": "#2a3f5f",
           "arrowhead": 0,
           "arrowwidth": 1
          },
          "coloraxis": {
           "colorbar": {
            "outlinewidth": 0,
            "ticks": ""
           }
          },
          "colorscale": {
           "diverging": [
            [
             0,
             "#8e0152"
            ],
            [
             0.1,
             "#c51b7d"
            ],
            [
             0.2,
             "#de77ae"
            ],
            [
             0.3,
             "#f1b6da"
            ],
            [
             0.4,
             "#fde0ef"
            ],
            [
             0.5,
             "#f7f7f7"
            ],
            [
             0.6,
             "#e6f5d0"
            ],
            [
             0.7,
             "#b8e186"
            ],
            [
             0.8,
             "#7fbc41"
            ],
            [
             0.9,
             "#4d9221"
            ],
            [
             1,
             "#276419"
            ]
           ],
           "sequential": [
            [
             0,
             "#0d0887"
            ],
            [
             0.1111111111111111,
             "#46039f"
            ],
            [
             0.2222222222222222,
             "#7201a8"
            ],
            [
             0.3333333333333333,
             "#9c179e"
            ],
            [
             0.4444444444444444,
             "#bd3786"
            ],
            [
             0.5555555555555556,
             "#d8576b"
            ],
            [
             0.6666666666666666,
             "#ed7953"
            ],
            [
             0.7777777777777778,
             "#fb9f3a"
            ],
            [
             0.8888888888888888,
             "#fdca26"
            ],
            [
             1,
             "#f0f921"
            ]
           ],
           "sequentialminus": [
            [
             0,
             "#0d0887"
            ],
            [
             0.1111111111111111,
             "#46039f"
            ],
            [
             0.2222222222222222,
             "#7201a8"
            ],
            [
             0.3333333333333333,
             "#9c179e"
            ],
            [
             0.4444444444444444,
             "#bd3786"
            ],
            [
             0.5555555555555556,
             "#d8576b"
            ],
            [
             0.6666666666666666,
             "#ed7953"
            ],
            [
             0.7777777777777778,
             "#fb9f3a"
            ],
            [
             0.8888888888888888,
             "#fdca26"
            ],
            [
             1,
             "#f0f921"
            ]
           ]
          },
          "colorway": [
           "#636efa",
           "#EF553B",
           "#00cc96",
           "#ab63fa",
           "#FFA15A",
           "#19d3f3",
           "#FF6692",
           "#B6E880",
           "#FF97FF",
           "#FECB52"
          ],
          "font": {
           "color": "#2a3f5f"
          },
          "geo": {
           "bgcolor": "white",
           "lakecolor": "white",
           "landcolor": "#E5ECF6",
           "showlakes": true,
           "showland": true,
           "subunitcolor": "white"
          },
          "hoverlabel": {
           "align": "left"
          },
          "hovermode": "closest",
          "mapbox": {
           "style": "light"
          },
          "paper_bgcolor": "white",
          "plot_bgcolor": "#E5ECF6",
          "polar": {
           "angularaxis": {
            "gridcolor": "white",
            "linecolor": "white",
            "ticks": ""
           },
           "bgcolor": "#E5ECF6",
           "radialaxis": {
            "gridcolor": "white",
            "linecolor": "white",
            "ticks": ""
           }
          },
          "scene": {
           "xaxis": {
            "backgroundcolor": "#E5ECF6",
            "gridcolor": "white",
            "gridwidth": 2,
            "linecolor": "white",
            "showbackground": true,
            "ticks": "",
            "zerolinecolor": "white"
           },
           "yaxis": {
            "backgroundcolor": "#E5ECF6",
            "gridcolor": "white",
            "gridwidth": 2,
            "linecolor": "white",
            "showbackground": true,
            "ticks": "",
            "zerolinecolor": "white"
           },
           "zaxis": {
            "backgroundcolor": "#E5ECF6",
            "gridcolor": "white",
            "gridwidth": 2,
            "linecolor": "white",
            "showbackground": true,
            "ticks": "",
            "zerolinecolor": "white"
           }
          },
          "shapedefaults": {
           "line": {
            "color": "#2a3f5f"
           }
          },
          "ternary": {
           "aaxis": {
            "gridcolor": "white",
            "linecolor": "white",
            "ticks": ""
           },
           "baxis": {
            "gridcolor": "white",
            "linecolor": "white",
            "ticks": ""
           },
           "bgcolor": "#E5ECF6",
           "caxis": {
            "gridcolor": "white",
            "linecolor": "white",
            "ticks": ""
           }
          },
          "title": {
           "x": 0.05
          },
          "xaxis": {
           "automargin": true,
           "gridcolor": "white",
           "linecolor": "white",
           "ticks": "",
           "title": {
            "standoff": 15
           },
           "zerolinecolor": "white",
           "zerolinewidth": 2
          },
          "yaxis": {
           "automargin": true,
           "gridcolor": "white",
           "linecolor": "white",
           "ticks": "",
           "title": {
            "standoff": 15
           },
           "zerolinecolor": "white",
           "zerolinewidth": 2
          }
         }
        },
        "title": {
         "font": {
          "color": "#4D5663"
         }
        },
        "xaxis": {
         "gridcolor": "#E1E5ED",
         "showgrid": true,
         "tickfont": {
          "color": "#4D5663"
         },
         "title": {
          "font": {
           "color": "#4D5663"
          },
          "text": ""
         },
         "type": "category",
         "zerolinecolor": "#E1E5ED"
        },
        "yaxis": {
         "gridcolor": "#E1E5ED",
         "showgrid": true,
         "tickfont": {
          "color": "#4D5663"
         },
         "title": {
          "font": {
           "color": "#4D5663"
          },
          "text": ""
         },
         "zerolinecolor": "#E1E5ED"
        }
       }
      },
      "text/html": [
       "<div>\n",
       "        \n",
       "        \n",
       "            <div id=\"bb51e6b4-3361-4a91-aec5-7bfddbb3d355\" class=\"plotly-graph-div\" style=\"height:525px; width:100%;\"></div>\n",
       "            <script type=\"text/javascript\">\n",
       "                require([\"plotly\"], function(Plotly) {\n",
       "                    window.PLOTLYENV=window.PLOTLYENV || {};\n",
       "                    window.PLOTLYENV.BASE_URL='https://plot.ly';\n",
       "                    \n",
       "                if (document.getElementById(\"bb51e6b4-3361-4a91-aec5-7bfddbb3d355\")) {\n",
       "                    Plotly.newPlot(\n",
       "                        'bb51e6b4-3361-4a91-aec5-7bfddbb3d355',\n",
       "                        [{\"line\": {\"color\": \"rgba(255, 153, 51, 1.0)\", \"dash\": \"solid\", \"shape\": \"linear\", \"width\": 1.3}, \"mode\": \"lines\", \"name\": \"aqi_co\", \"text\": \"\", \"type\": \"scatter\", \"x\": [\"2018-06\", \"2018-07\", \"2018-08\", \"2018-09\", \"2018-10\", \"2018-11\", \"2018-12\", \"2019-01\", \"2019-02\", \"2019-03\", \"2019-04\", \"2019-05\", \"2019-06\", \"2019-07\", \"2019-08\", \"2019-09\", \"2019-10\", \"2019-11\", \"2019-12\", \"2020-01\", \"2020-02\", \"2020-03\", \"2020-04\"], \"y\": [8.55813953488372, 7.916666666666667, 5.532258064516129, 4.216666666666667, 2.3870967741935485, 1.7457627118644068, 2.4423076923076925, 3.3275862068965516, 1.8214285714285714, 2.0483870967741935, 3.5, 7.0, 7.933333333333334, 6.533333333333333, 5.229508196721311, 4.133333333333334, 2.066666666666667, 2.457627118644068, 17.1, 26.93548387096774, 2.603448275862069, 0.5698924731182796, 0.8888888888888888]}, {\"line\": {\"color\": \"rgba(55, 128, 191, 1.0)\", \"dash\": \"solid\", \"shape\": \"linear\", \"width\": 1.3}, \"mode\": \"lines\", \"name\": \"aqi_no2\", \"text\": \"\", \"type\": \"scatter\", \"x\": [\"2018-06\", \"2018-07\", \"2018-08\", \"2018-09\", \"2018-10\", \"2018-11\", \"2018-12\", \"2019-01\", \"2019-02\", \"2019-03\", \"2019-04\", \"2019-05\", \"2019-06\", \"2019-07\", \"2019-08\", \"2019-09\", \"2019-10\", \"2019-11\", \"2019-12\", \"2020-01\", \"2020-02\", \"2020-03\", \"2020-04\"], \"y\": [13.906976744186046, 15.1, 14.758064516129032, 14.933333333333334, 9.596774193548388, 8.220338983050848, 9.076923076923077, 8.620689655172415, 7.267857142857143, 9.564516129032258, 14.942307692307692, 14.235294117647058, 14.233333333333333, 14.022222222222222, 13.01639344262295, 45.25, 12.466666666666667, 10.23728813559322, 11.466666666666667, 18.322580645161292, 8.172413793103448, 4.451612903225806, 4.177777777777778]}, {\"line\": {\"color\": \"rgba(50, 171, 96, 1.0)\", \"dash\": \"solid\", \"shape\": \"linear\", \"width\": 1.3}, \"mode\": \"lines\", \"name\": \"aqi_o3_1hr\", \"text\": \"\", \"type\": \"scatter\", \"x\": [\"2018-06\", \"2018-07\", \"2018-08\", \"2018-09\", \"2018-10\", \"2018-11\", \"2018-12\", \"2019-01\", \"2019-02\", \"2019-03\", \"2019-04\", \"2019-05\", \"2019-06\", \"2019-07\", \"2019-08\", \"2019-09\", \"2019-10\", \"2019-11\", \"2019-12\", \"2020-01\", \"2020-02\", \"2020-03\", \"2020-04\"], \"y\": [28.023255813953487, 29.983333333333334, 32.24193548387097, 32.61666666666667, 37.354838709677416, 35.71186440677966, 39.76923076923077, 53.03448275862069, 37.19642857142857, 34.403225806451616, 32.65384615384615, 25.764705882352942, 25.4, 26.733333333333334, 30.098360655737704, 32.583333333333336, 38.333333333333336, 40.271186440677965, 60.95, 61.806451612903224, 38.94827586206897, 28.741935483870968, 27.666666666666668]}, {\"line\": {\"color\": \"rgba(128, 0, 128, 1.0)\", \"dash\": \"solid\", \"shape\": \"linear\", \"width\": 1.3}, \"mode\": \"lines\", \"name\": \"aqi_o3_4hr\", \"text\": \"\", \"type\": \"scatter\", \"x\": [\"2018-06\", \"2018-07\", \"2018-08\", \"2018-09\", \"2018-10\", \"2018-11\", \"2018-12\", \"2019-01\", \"2019-02\", \"2019-03\", \"2019-04\", \"2019-05\", \"2019-06\", \"2019-07\", \"2019-08\", \"2019-09\", \"2019-10\", \"2019-11\", \"2019-12\", \"2020-01\", \"2020-02\", \"2020-03\", \"2020-04\"], \"y\": [33.883720930232556, 36.21666666666667, 39.403225806451616, 40.0, 45.16129032258065, 43.32203389830509, 48.0, 63.06896551724138, 44.785714285714285, 41.403225806451616, 39.57692307692308, 28.352941176470587, 30.3, 32.355555555555554, 36.622950819672134, 39.766666666666666, 46.7, 47.898305084745765, 71.0, 73.29032258064517, 47.05172413793103, 34.763440860215056, 31.066666666666666]}, {\"line\": {\"color\": \"rgba(219, 64, 82, 1.0)\", \"dash\": \"solid\", \"shape\": \"linear\", \"width\": 1.3}, \"mode\": \"lines\", \"name\": \"aqi_pm10\", \"text\": \"\", \"type\": \"scatter\", \"x\": [\"2018-06\", \"2018-07\", \"2018-08\", \"2018-09\", \"2018-10\", \"2018-11\", \"2018-12\", \"2019-01\", \"2019-02\", \"2019-03\", \"2019-04\", \"2019-05\", \"2019-06\", \"2019-07\", \"2019-08\", \"2019-09\", \"2019-10\", \"2019-11\", \"2019-12\", \"2020-01\", \"2020-02\", \"2020-03\", \"2020-04\"], \"y\": [26.162790697674417, 31.816666666666666, 25.193548387096776, 23.383333333333333, 22.70967741935484, 29.11864406779661, 46.63461538461539, 42.741379310344826, 58.607142857142854, 31.70967741935484, 33.80769230769231, 34.05882352941177, 30.9, 25.177777777777777, 23.131147540983605, 35.5, 38.18333333333333, 85.57627118644068, 222.38333333333333, 423.7741935483871, 50.827586206896555, 23.29032258064516, 19.622222222222224]}, {\"line\": {\"color\": \"rgba(0, 128, 128, 1.0)\", \"dash\": \"solid\", \"shape\": \"linear\", \"width\": 1.3}, \"mode\": \"lines\", \"name\": \"aqi_pm2_5\", \"text\": \"\", \"type\": \"scatter\", \"x\": [\"2018-06\", \"2018-07\", \"2018-08\", \"2018-09\", \"2018-10\", \"2018-11\", \"2018-12\", \"2019-01\", \"2019-02\", \"2019-03\", \"2019-04\", \"2019-05\", \"2019-06\", \"2019-07\", \"2019-08\", \"2019-09\", \"2019-10\", \"2019-11\", \"2019-12\", \"2020-01\", \"2020-02\", \"2020-03\", \"2020-04\"], \"y\": [49.372093023255815, 56.11666666666667, 38.854838709677416, 30.566666666666666, 20.548387096774192, 24.47457627118644, 35.98076923076923, 37.206896551724135, 33.660714285714285, 34.67741935483871, 36.80769230769231, 53.529411764705884, 57.666666666666664, 46.86666666666667, 41.77049180327869, 38.38333333333333, 31.25, 72.1864406779661, 403.6166666666667, 777.5967741935484, 49.3448275862069, 20.666666666666668, 27.57777777777778]}, {\"line\": {\"color\": \"rgba(255, 255, 51, 1.0)\", \"dash\": \"solid\", \"shape\": \"linear\", \"width\": 1.3}, \"mode\": \"lines\", \"name\": \"aqi_site\", \"text\": \"\", \"type\": \"scatter\", \"x\": [\"2018-06\", \"2018-07\", \"2018-08\", \"2018-09\", \"2018-10\", \"2018-11\", \"2018-12\", \"2019-01\", \"2019-02\", \"2019-03\", \"2019-04\", \"2019-05\", \"2019-06\", \"2019-07\", \"2019-08\", \"2019-09\", \"2019-10\", \"2019-11\", \"2019-12\", \"2020-01\", \"2020-02\", \"2020-03\", \"2020-04\"], \"y\": [56.48837209302326, 61.95, 47.38709677419355, 41.266666666666666, 46.11290322580645, 50.0, 69.0576923076923, 66.8103448275862, 72.375, 48.08064516129032, 46.34615384615385, 55.11764705882353, 58.766666666666666, 52.977777777777774, 49.40983606557377, 77.28333333333333, 56.03333333333333, 108.27118644067797, 407.28333333333336, 793.4677419354839, 75.56896551724138, 36.956989247311824, 37.15555555555556]}],\n",
       "                        {\"legend\": {\"bgcolor\": \"#F5F6F9\", \"font\": {\"color\": \"#4D5663\"}}, \"paper_bgcolor\": \"#F5F6F9\", \"plot_bgcolor\": \"#F5F6F9\", \"template\": {\"data\": {\"bar\": [{\"error_x\": {\"color\": \"#2a3f5f\"}, \"error_y\": {\"color\": \"#2a3f5f\"}, \"marker\": {\"line\": {\"color\": \"#E5ECF6\", \"width\": 0.5}}, \"type\": \"bar\"}], \"barpolar\": [{\"marker\": {\"line\": {\"color\": \"#E5ECF6\", \"width\": 0.5}}, \"type\": \"barpolar\"}], \"carpet\": [{\"aaxis\": {\"endlinecolor\": \"#2a3f5f\", \"gridcolor\": \"white\", \"linecolor\": \"white\", \"minorgridcolor\": \"white\", \"startlinecolor\": \"#2a3f5f\"}, \"baxis\": {\"endlinecolor\": \"#2a3f5f\", \"gridcolor\": \"white\", \"linecolor\": \"white\", \"minorgridcolor\": \"white\", \"startlinecolor\": \"#2a3f5f\"}, \"type\": \"carpet\"}], \"choropleth\": [{\"colorbar\": {\"outlinewidth\": 0, \"ticks\": \"\"}, \"type\": \"choropleth\"}], \"contour\": [{\"colorbar\": {\"outlinewidth\": 0, \"ticks\": \"\"}, \"colorscale\": [[0.0, \"#0d0887\"], [0.1111111111111111, \"#46039f\"], [0.2222222222222222, \"#7201a8\"], [0.3333333333333333, \"#9c179e\"], [0.4444444444444444, \"#bd3786\"], [0.5555555555555556, \"#d8576b\"], [0.6666666666666666, \"#ed7953\"], [0.7777777777777778, \"#fb9f3a\"], [0.8888888888888888, \"#fdca26\"], [1.0, \"#f0f921\"]], \"type\": \"contour\"}], \"contourcarpet\": [{\"colorbar\": {\"outlinewidth\": 0, \"ticks\": \"\"}, \"type\": \"contourcarpet\"}], \"heatmap\": [{\"colorbar\": {\"outlinewidth\": 0, \"ticks\": \"\"}, \"colorscale\": [[0.0, \"#0d0887\"], [0.1111111111111111, \"#46039f\"], [0.2222222222222222, \"#7201a8\"], [0.3333333333333333, \"#9c179e\"], [0.4444444444444444, \"#bd3786\"], [0.5555555555555556, \"#d8576b\"], [0.6666666666666666, \"#ed7953\"], [0.7777777777777778, \"#fb9f3a\"], [0.8888888888888888, \"#fdca26\"], [1.0, \"#f0f921\"]], \"type\": \"heatmap\"}], \"heatmapgl\": [{\"colorbar\": {\"outlinewidth\": 0, \"ticks\": \"\"}, \"colorscale\": [[0.0, \"#0d0887\"], [0.1111111111111111, \"#46039f\"], [0.2222222222222222, \"#7201a8\"], [0.3333333333333333, \"#9c179e\"], [0.4444444444444444, \"#bd3786\"], [0.5555555555555556, \"#d8576b\"], [0.6666666666666666, \"#ed7953\"], [0.7777777777777778, \"#fb9f3a\"], [0.8888888888888888, \"#fdca26\"], [1.0, \"#f0f921\"]], \"type\": \"heatmapgl\"}], \"histogram\": [{\"marker\": {\"colorbar\": {\"outlinewidth\": 0, \"ticks\": \"\"}}, \"type\": \"histogram\"}], \"histogram2d\": [{\"colorbar\": {\"outlinewidth\": 0, \"ticks\": \"\"}, \"colorscale\": [[0.0, \"#0d0887\"], [0.1111111111111111, \"#46039f\"], [0.2222222222222222, \"#7201a8\"], [0.3333333333333333, \"#9c179e\"], [0.4444444444444444, \"#bd3786\"], [0.5555555555555556, \"#d8576b\"], [0.6666666666666666, \"#ed7953\"], [0.7777777777777778, \"#fb9f3a\"], [0.8888888888888888, \"#fdca26\"], [1.0, \"#f0f921\"]], \"type\": \"histogram2d\"}], \"histogram2dcontour\": [{\"colorbar\": {\"outlinewidth\": 0, \"ticks\": \"\"}, \"colorscale\": [[0.0, \"#0d0887\"], [0.1111111111111111, \"#46039f\"], [0.2222222222222222, \"#7201a8\"], [0.3333333333333333, \"#9c179e\"], [0.4444444444444444, \"#bd3786\"], [0.5555555555555556, \"#d8576b\"], [0.6666666666666666, \"#ed7953\"], [0.7777777777777778, \"#fb9f3a\"], [0.8888888888888888, \"#fdca26\"], [1.0, \"#f0f921\"]], \"type\": \"histogram2dcontour\"}], \"mesh3d\": [{\"colorbar\": {\"outlinewidth\": 0, \"ticks\": \"\"}, \"type\": \"mesh3d\"}], \"parcoords\": [{\"line\": {\"colorbar\": {\"outlinewidth\": 0, \"ticks\": \"\"}}, \"type\": \"parcoords\"}], \"pie\": [{\"automargin\": true, \"type\": \"pie\"}], \"scatter\": [{\"marker\": {\"colorbar\": {\"outlinewidth\": 0, \"ticks\": \"\"}}, \"type\": \"scatter\"}], \"scatter3d\": [{\"line\": {\"colorbar\": {\"outlinewidth\": 0, \"ticks\": \"\"}}, \"marker\": {\"colorbar\": {\"outlinewidth\": 0, \"ticks\": \"\"}}, \"type\": \"scatter3d\"}], \"scattercarpet\": [{\"marker\": {\"colorbar\": {\"outlinewidth\": 0, \"ticks\": \"\"}}, \"type\": \"scattercarpet\"}], \"scattergeo\": [{\"marker\": {\"colorbar\": {\"outlinewidth\": 0, \"ticks\": \"\"}}, \"type\": \"scattergeo\"}], \"scattergl\": [{\"marker\": {\"colorbar\": {\"outlinewidth\": 0, \"ticks\": \"\"}}, \"type\": \"scattergl\"}], \"scattermapbox\": [{\"marker\": {\"colorbar\": {\"outlinewidth\": 0, \"ticks\": \"\"}}, \"type\": \"scattermapbox\"}], \"scatterpolar\": [{\"marker\": {\"colorbar\": {\"outlinewidth\": 0, \"ticks\": \"\"}}, \"type\": \"scatterpolar\"}], \"scatterpolargl\": [{\"marker\": {\"colorbar\": {\"outlinewidth\": 0, \"ticks\": \"\"}}, \"type\": \"scatterpolargl\"}], \"scatterternary\": [{\"marker\": {\"colorbar\": {\"outlinewidth\": 0, \"ticks\": \"\"}}, \"type\": \"scatterternary\"}], \"surface\": [{\"colorbar\": {\"outlinewidth\": 0, \"ticks\": \"\"}, \"colorscale\": [[0.0, \"#0d0887\"], [0.1111111111111111, \"#46039f\"], [0.2222222222222222, \"#7201a8\"], [0.3333333333333333, \"#9c179e\"], [0.4444444444444444, \"#bd3786\"], [0.5555555555555556, \"#d8576b\"], [0.6666666666666666, \"#ed7953\"], [0.7777777777777778, \"#fb9f3a\"], [0.8888888888888888, \"#fdca26\"], [1.0, \"#f0f921\"]], \"type\": \"surface\"}], \"table\": [{\"cells\": {\"fill\": {\"color\": \"#EBF0F8\"}, \"line\": {\"color\": \"white\"}}, \"header\": {\"fill\": {\"color\": \"#C8D4E3\"}, \"line\": {\"color\": \"white\"}}, \"type\": \"table\"}]}, \"layout\": {\"annotationdefaults\": {\"arrowcolor\": \"#2a3f5f\", \"arrowhead\": 0, \"arrowwidth\": 1}, \"coloraxis\": {\"colorbar\": {\"outlinewidth\": 0, \"ticks\": \"\"}}, \"colorscale\": {\"diverging\": [[0, \"#8e0152\"], [0.1, \"#c51b7d\"], [0.2, \"#de77ae\"], [0.3, \"#f1b6da\"], [0.4, \"#fde0ef\"], [0.5, \"#f7f7f7\"], [0.6, \"#e6f5d0\"], [0.7, \"#b8e186\"], [0.8, \"#7fbc41\"], [0.9, \"#4d9221\"], [1, \"#276419\"]], \"sequential\": [[0.0, \"#0d0887\"], [0.1111111111111111, \"#46039f\"], [0.2222222222222222, \"#7201a8\"], [0.3333333333333333, \"#9c179e\"], [0.4444444444444444, \"#bd3786\"], [0.5555555555555556, \"#d8576b\"], [0.6666666666666666, \"#ed7953\"], [0.7777777777777778, \"#fb9f3a\"], [0.8888888888888888, \"#fdca26\"], [1.0, \"#f0f921\"]], \"sequentialminus\": [[0.0, \"#0d0887\"], [0.1111111111111111, \"#46039f\"], [0.2222222222222222, \"#7201a8\"], [0.3333333333333333, \"#9c179e\"], [0.4444444444444444, \"#bd3786\"], [0.5555555555555556, \"#d8576b\"], [0.6666666666666666, \"#ed7953\"], [0.7777777777777778, \"#fb9f3a\"], [0.8888888888888888, \"#fdca26\"], [1.0, \"#f0f921\"]]}, \"colorway\": [\"#636efa\", \"#EF553B\", \"#00cc96\", \"#ab63fa\", \"#FFA15A\", \"#19d3f3\", \"#FF6692\", \"#B6E880\", \"#FF97FF\", \"#FECB52\"], \"font\": {\"color\": \"#2a3f5f\"}, \"geo\": {\"bgcolor\": \"white\", \"lakecolor\": \"white\", \"landcolor\": \"#E5ECF6\", \"showlakes\": true, \"showland\": true, \"subunitcolor\": \"white\"}, \"hoverlabel\": {\"align\": \"left\"}, \"hovermode\": \"closest\", \"mapbox\": {\"style\": \"light\"}, \"paper_bgcolor\": \"white\", \"plot_bgcolor\": \"#E5ECF6\", \"polar\": {\"angularaxis\": {\"gridcolor\": \"white\", \"linecolor\": \"white\", \"ticks\": \"\"}, \"bgcolor\": \"#E5ECF6\", \"radialaxis\": {\"gridcolor\": \"white\", \"linecolor\": \"white\", \"ticks\": \"\"}}, \"scene\": {\"xaxis\": {\"backgroundcolor\": \"#E5ECF6\", \"gridcolor\": \"white\", \"gridwidth\": 2, \"linecolor\": \"white\", \"showbackground\": true, \"ticks\": \"\", \"zerolinecolor\": \"white\"}, \"yaxis\": {\"backgroundcolor\": \"#E5ECF6\", \"gridcolor\": \"white\", \"gridwidth\": 2, \"linecolor\": \"white\", \"showbackground\": true, \"ticks\": \"\", \"zerolinecolor\": \"white\"}, \"zaxis\": {\"backgroundcolor\": \"#E5ECF6\", \"gridcolor\": \"white\", \"gridwidth\": 2, \"linecolor\": \"white\", \"showbackground\": true, \"ticks\": \"\", \"zerolinecolor\": \"white\"}}, \"shapedefaults\": {\"line\": {\"color\": \"#2a3f5f\"}}, \"ternary\": {\"aaxis\": {\"gridcolor\": \"white\", \"linecolor\": \"white\", \"ticks\": \"\"}, \"baxis\": {\"gridcolor\": \"white\", \"linecolor\": \"white\", \"ticks\": \"\"}, \"bgcolor\": \"#E5ECF6\", \"caxis\": {\"gridcolor\": \"white\", \"linecolor\": \"white\", \"ticks\": \"\"}}, \"title\": {\"x\": 0.05}, \"xaxis\": {\"automargin\": true, \"gridcolor\": \"white\", \"linecolor\": \"white\", \"ticks\": \"\", \"title\": {\"standoff\": 15}, \"zerolinecolor\": \"white\", \"zerolinewidth\": 2}, \"yaxis\": {\"automargin\": true, \"gridcolor\": \"white\", \"linecolor\": \"white\", \"ticks\": \"\", \"title\": {\"standoff\": 15}, \"zerolinecolor\": \"white\", \"zerolinewidth\": 2}}}, \"title\": {\"font\": {\"color\": \"#4D5663\"}}, \"xaxis\": {\"gridcolor\": \"#E1E5ED\", \"showgrid\": true, \"tickfont\": {\"color\": \"#4D5663\"}, \"title\": {\"font\": {\"color\": \"#4D5663\"}, \"text\": \"\"}, \"type\": \"category\", \"zerolinecolor\": \"#E1E5ED\"}, \"yaxis\": {\"gridcolor\": \"#E1E5ED\", \"showgrid\": true, \"tickfont\": {\"color\": \"#4D5663\"}, \"title\": {\"font\": {\"color\": \"#4D5663\"}, \"text\": \"\"}, \"zerolinecolor\": \"#E1E5ED\"}},\n",
       "                        {\"showLink\": true, \"linkText\": \"Export to plot.ly\", \"plotlyServerURL\": \"https://plot.ly\", \"responsive\": true}\n",
       "                    ).then(function(){\n",
       "                            \n",
       "var gd = document.getElementById('bb51e6b4-3361-4a91-aec5-7bfddbb3d355');\n",
       "var x = new MutationObserver(function (mutations, observer) {{\n",
       "        var display = window.getComputedStyle(gd).display;\n",
       "        if (!display || display === 'none') {{\n",
       "            console.log([gd, 'removed!']);\n",
       "            Plotly.purge(gd);\n",
       "            observer.disconnect();\n",
       "        }}\n",
       "}});\n",
       "\n",
       "// Listen for the removal of the full notebook cells\n",
       "var notebookContainer = gd.closest('#notebook-container');\n",
       "if (notebookContainer) {{\n",
       "    x.observe(notebookContainer, {childList: true});\n",
       "}}\n",
       "\n",
       "// Listen for the clearing of the current output cell\n",
       "var outputEl = gd.closest('.output');\n",
       "if (outputEl) {{\n",
       "    x.observe(outputEl, {childList: true});\n",
       "}}\n",
       "\n",
       "                        })\n",
       "                };\n",
       "                });\n",
       "            </script>\n",
       "        </div>"
      ]
     },
     "metadata": {},
     "output_type": "display_data"
    }
   ],
   "source": [
    "air_monthly_mean.iplot(kind='line', x = 'yearmonth', y = air_monthly_mean.columns.names[1:7], xaxis_type='category')"
   ]
  },
  {
   "cell_type": "code",
   "execution_count": 61,
   "metadata": {},
   "outputs": [],
   "source": [
    "air_monthly_mean = air_monthly_mean[['aqi_co','aqi_no2','aqi_o3_4hr','aqi_pm10','aqi_pm2_5']]"
   ]
  },
  {
   "cell_type": "code",
   "execution_count": 65,
   "metadata": {},
   "outputs": [
    {
     "data": {
      "text/html": [
       "<div>\n",
       "<style scoped>\n",
       "    .dataframe tbody tr th:only-of-type {\n",
       "        vertical-align: middle;\n",
       "    }\n",
       "\n",
       "    .dataframe tbody tr th {\n",
       "        vertical-align: top;\n",
       "    }\n",
       "\n",
       "    .dataframe thead th {\n",
       "        text-align: right;\n",
       "    }\n",
       "</style>\n",
       "<table border=\"1\" class=\"dataframe\">\n",
       "  <thead>\n",
       "    <tr style=\"text-align: right;\">\n",
       "      <th></th>\n",
       "      <th>aqi_co</th>\n",
       "      <th>aqi_no2</th>\n",
       "      <th>aqi_o3_4hr</th>\n",
       "      <th>aqi_pm10</th>\n",
       "      <th>aqi_pm2_5</th>\n",
       "    </tr>\n",
       "  </thead>\n",
       "  <tbody>\n",
       "    <tr>\n",
       "      <td>0</td>\n",
       "      <td>8.558140</td>\n",
       "      <td>13.906977</td>\n",
       "      <td>33.883721</td>\n",
       "      <td>26.162791</td>\n",
       "      <td>49.372093</td>\n",
       "    </tr>\n",
       "    <tr>\n",
       "      <td>1</td>\n",
       "      <td>7.916667</td>\n",
       "      <td>15.100000</td>\n",
       "      <td>36.216667</td>\n",
       "      <td>31.816667</td>\n",
       "      <td>56.116667</td>\n",
       "    </tr>\n",
       "    <tr>\n",
       "      <td>2</td>\n",
       "      <td>5.532258</td>\n",
       "      <td>14.758065</td>\n",
       "      <td>39.403226</td>\n",
       "      <td>25.193548</td>\n",
       "      <td>38.854839</td>\n",
       "    </tr>\n",
       "    <tr>\n",
       "      <td>3</td>\n",
       "      <td>4.216667</td>\n",
       "      <td>14.933333</td>\n",
       "      <td>40.000000</td>\n",
       "      <td>23.383333</td>\n",
       "      <td>30.566667</td>\n",
       "    </tr>\n",
       "    <tr>\n",
       "      <td>4</td>\n",
       "      <td>2.387097</td>\n",
       "      <td>9.596774</td>\n",
       "      <td>45.161290</td>\n",
       "      <td>22.709677</td>\n",
       "      <td>20.548387</td>\n",
       "    </tr>\n",
       "    <tr>\n",
       "      <td>5</td>\n",
       "      <td>1.745763</td>\n",
       "      <td>8.220339</td>\n",
       "      <td>43.322034</td>\n",
       "      <td>29.118644</td>\n",
       "      <td>24.474576</td>\n",
       "    </tr>\n",
       "    <tr>\n",
       "      <td>6</td>\n",
       "      <td>2.442308</td>\n",
       "      <td>9.076923</td>\n",
       "      <td>48.000000</td>\n",
       "      <td>46.634615</td>\n",
       "      <td>35.980769</td>\n",
       "    </tr>\n",
       "    <tr>\n",
       "      <td>7</td>\n",
       "      <td>3.327586</td>\n",
       "      <td>8.620690</td>\n",
       "      <td>63.068966</td>\n",
       "      <td>42.741379</td>\n",
       "      <td>37.206897</td>\n",
       "    </tr>\n",
       "    <tr>\n",
       "      <td>8</td>\n",
       "      <td>1.821429</td>\n",
       "      <td>7.267857</td>\n",
       "      <td>44.785714</td>\n",
       "      <td>58.607143</td>\n",
       "      <td>33.660714</td>\n",
       "    </tr>\n",
       "    <tr>\n",
       "      <td>9</td>\n",
       "      <td>2.048387</td>\n",
       "      <td>9.564516</td>\n",
       "      <td>41.403226</td>\n",
       "      <td>31.709677</td>\n",
       "      <td>34.677419</td>\n",
       "    </tr>\n",
       "    <tr>\n",
       "      <td>10</td>\n",
       "      <td>3.500000</td>\n",
       "      <td>14.942308</td>\n",
       "      <td>39.576923</td>\n",
       "      <td>33.807692</td>\n",
       "      <td>36.807692</td>\n",
       "    </tr>\n",
       "    <tr>\n",
       "      <td>11</td>\n",
       "      <td>7.000000</td>\n",
       "      <td>14.235294</td>\n",
       "      <td>28.352941</td>\n",
       "      <td>34.058824</td>\n",
       "      <td>53.529412</td>\n",
       "    </tr>\n",
       "    <tr>\n",
       "      <td>12</td>\n",
       "      <td>7.933333</td>\n",
       "      <td>14.233333</td>\n",
       "      <td>30.300000</td>\n",
       "      <td>30.900000</td>\n",
       "      <td>57.666667</td>\n",
       "    </tr>\n",
       "    <tr>\n",
       "      <td>13</td>\n",
       "      <td>6.533333</td>\n",
       "      <td>14.022222</td>\n",
       "      <td>32.355556</td>\n",
       "      <td>25.177778</td>\n",
       "      <td>46.866667</td>\n",
       "    </tr>\n",
       "    <tr>\n",
       "      <td>14</td>\n",
       "      <td>5.229508</td>\n",
       "      <td>13.016393</td>\n",
       "      <td>36.622951</td>\n",
       "      <td>23.131148</td>\n",
       "      <td>41.770492</td>\n",
       "    </tr>\n",
       "    <tr>\n",
       "      <td>15</td>\n",
       "      <td>4.133333</td>\n",
       "      <td>45.250000</td>\n",
       "      <td>39.766667</td>\n",
       "      <td>35.500000</td>\n",
       "      <td>38.383333</td>\n",
       "    </tr>\n",
       "    <tr>\n",
       "      <td>16</td>\n",
       "      <td>2.066667</td>\n",
       "      <td>12.466667</td>\n",
       "      <td>46.700000</td>\n",
       "      <td>38.183333</td>\n",
       "      <td>31.250000</td>\n",
       "    </tr>\n",
       "    <tr>\n",
       "      <td>17</td>\n",
       "      <td>2.457627</td>\n",
       "      <td>10.237288</td>\n",
       "      <td>47.898305</td>\n",
       "      <td>85.576271</td>\n",
       "      <td>72.186441</td>\n",
       "    </tr>\n",
       "    <tr>\n",
       "      <td>18</td>\n",
       "      <td>17.100000</td>\n",
       "      <td>11.466667</td>\n",
       "      <td>71.000000</td>\n",
       "      <td>222.383333</td>\n",
       "      <td>403.616667</td>\n",
       "    </tr>\n",
       "    <tr>\n",
       "      <td>19</td>\n",
       "      <td>26.935484</td>\n",
       "      <td>18.322581</td>\n",
       "      <td>73.290323</td>\n",
       "      <td>423.774194</td>\n",
       "      <td>777.596774</td>\n",
       "    </tr>\n",
       "    <tr>\n",
       "      <td>20</td>\n",
       "      <td>2.603448</td>\n",
       "      <td>8.172414</td>\n",
       "      <td>47.051724</td>\n",
       "      <td>50.827586</td>\n",
       "      <td>49.344828</td>\n",
       "    </tr>\n",
       "    <tr>\n",
       "      <td>21</td>\n",
       "      <td>0.569892</td>\n",
       "      <td>4.451613</td>\n",
       "      <td>34.763441</td>\n",
       "      <td>23.290323</td>\n",
       "      <td>20.666667</td>\n",
       "    </tr>\n",
       "    <tr>\n",
       "      <td>22</td>\n",
       "      <td>0.888889</td>\n",
       "      <td>4.177778</td>\n",
       "      <td>31.066667</td>\n",
       "      <td>19.622222</td>\n",
       "      <td>27.577778</td>\n",
       "    </tr>\n",
       "  </tbody>\n",
       "</table>\n",
       "</div>"
      ],
      "text/plain": [
       "       aqi_co    aqi_no2  aqi_o3_4hr    aqi_pm10   aqi_pm2_5\n",
       "0    8.558140  13.906977   33.883721   26.162791   49.372093\n",
       "1    7.916667  15.100000   36.216667   31.816667   56.116667\n",
       "2    5.532258  14.758065   39.403226   25.193548   38.854839\n",
       "3    4.216667  14.933333   40.000000   23.383333   30.566667\n",
       "4    2.387097   9.596774   45.161290   22.709677   20.548387\n",
       "5    1.745763   8.220339   43.322034   29.118644   24.474576\n",
       "6    2.442308   9.076923   48.000000   46.634615   35.980769\n",
       "7    3.327586   8.620690   63.068966   42.741379   37.206897\n",
       "8    1.821429   7.267857   44.785714   58.607143   33.660714\n",
       "9    2.048387   9.564516   41.403226   31.709677   34.677419\n",
       "10   3.500000  14.942308   39.576923   33.807692   36.807692\n",
       "11   7.000000  14.235294   28.352941   34.058824   53.529412\n",
       "12   7.933333  14.233333   30.300000   30.900000   57.666667\n",
       "13   6.533333  14.022222   32.355556   25.177778   46.866667\n",
       "14   5.229508  13.016393   36.622951   23.131148   41.770492\n",
       "15   4.133333  45.250000   39.766667   35.500000   38.383333\n",
       "16   2.066667  12.466667   46.700000   38.183333   31.250000\n",
       "17   2.457627  10.237288   47.898305   85.576271   72.186441\n",
       "18  17.100000  11.466667   71.000000  222.383333  403.616667\n",
       "19  26.935484  18.322581   73.290323  423.774194  777.596774\n",
       "20   2.603448   8.172414   47.051724   50.827586   49.344828\n",
       "21   0.569892   4.451613   34.763441   23.290323   20.666667\n",
       "22   0.888889   4.177778   31.066667   19.622222   27.577778"
      ]
     },
     "execution_count": 65,
     "metadata": {},
     "output_type": "execute_result"
    }
   ],
   "source": [
    "air_monthly_mean"
   ]
  },
  {
   "cell_type": "markdown",
   "metadata": {},
   "source": [
    "We are going to assign a note from the pentatonic major scale"
   ]
  },
  {
   "cell_type": "markdown",
   "metadata": {},
   "source": [
    "In reality we have 5 variables, because we just have a 1 hour and 4 hour measurement for O3 and aqi site is just the site of measurement. \n",
    "\n",
    "We will assign a note from the pentatonic scale to each one. We will vary the time frequency depending on the measurement. The options are a 1/4 notes for fair values. \n",
    "\n",
    "ppm_levels = { 'good': }"
   ]
  },
  {
   "cell_type": "code",
   "execution_count": 18,
   "metadata": {},
   "outputs": [
    {
     "data": {
      "text/plain": [
       "33"
      ]
     },
     "execution_count": 18,
     "metadata": {},
     "output_type": "execute_result"
    }
   ],
   "source": [
    "ppm_levels = {'good':33,'fair': 66,'poor': 100,'very poor': 150, 'hazardous': 200}"
   ]
  },
  {
   "cell_type": "code",
   "execution_count": null,
   "metadata": {},
   "outputs": [],
   "source": [
    "## Musical part\n",
    "\n"
   ]
  },
  {
   "cell_type": "code",
   "execution_count": 55,
   "metadata": {},
   "outputs": [],
   "source": [
    "def calculate_key(midi_note_number, key_type):\n",
    "    '''\n",
    "    midi_note_number: based on the MIDI standard\n",
    "    key_type options:\n",
    "        major\n",
    "        minor_natural\n",
    "        major_pentatonic\n",
    "    '''\n",
    "    key = [midi_note_number]\n",
    "    \n",
    "    if key_type.lower() == 'major':\n",
    "        # Major scales are formed by taking the follwing steps = Whole, Whole, Half, Whole, Whole, Whole, Half\n",
    "        # Where whole steps are two semtitones and Half are one semitone. \n",
    "        # Increasing the midi number means an increase of one semitone\n",
    "        steps = ['W','W','H','W','W','W','H']\n",
    "        for i in range(len(steps)):\n",
    "            # If we need to take a whole step, increase by two, otherwise by one\n",
    "            if steps[i] == 'W':\n",
    "                midi_note_number = midi_note_number + 2\n",
    "                key.append(midi_note_number)\n",
    "            else:\n",
    "                midi_note_number = midi_note_number + 1\n",
    "                key.append(midi_note_number)\n",
    "    elif key_type.lower() == 'minor_natural':\n",
    "        # Minor scales are formed by taking the follwing steps = Whole, Whole, Half, Whole, Whole, Whole, Half\n",
    "        # Whole, Half, Whole, Whole, Half, Whole, Whole\n",
    "        steps = ['W','H', 'W', 'W', 'H' ,'W', 'W']\n",
    "        for i in range(len(steps)):\n",
    "            # If we need to take a whole step, increase by two, otherwise by one\n",
    "            if steps[i] == 'W':\n",
    "                midi_note_number = midi_note_number + 2\n",
    "                key.append(midi_note_number)\n",
    "            else:\n",
    "                midi_note_number = midi_note_number + 1\n",
    "                key.append(midi_note_number)   \n",
    "    elif key_type.lower() == 'major_pentatonic':\n",
    "        # Major scales are formed by taking the follwing steps = Whole, Whole, Half, Whole, Whole, Whole, Half\n",
    "        # Where whole steps are two semtitones and Half are one semitone. \n",
    "        # Increasing the midi number means an increase of one semitone\n",
    "        steps = ['W','W','H','W','W','W','H']\n",
    "        for i in range(len(steps)):\n",
    "            # If we need to take a whole step, increase by two, otherwise by one\n",
    "            if steps[i] == 'W':\n",
    "                midi_note_number = midi_note_number + 2\n",
    "                key.append(midi_note_number)\n",
    "            else:\n",
    "                midi_note_number = midi_note_number + 1\n",
    "                key.append(midi_note_number)\n",
    "            # only select 1,2,3,5,7 degrees (due to 9 indexing we substract one)\n",
    "        key = [key[i] for i in [0,1,2,4,6]]\n",
    "\n",
    "    return key"
   ]
  },
  {
   "cell_type": "code",
   "execution_count": 56,
   "metadata": {},
   "outputs": [
    {
     "data": {
      "text/plain": [
       "[65, 67, 69, 72, 76]"
      ]
     },
     "execution_count": 56,
     "metadata": {},
     "output_type": "execute_result"
    }
   ],
   "source": [
    "key = calculate_key(65,'major_pentatonic')"
   ]
  },
  {
   "cell_type": "code",
   "execution_count": null,
   "metadata": {
    "scrolled": true
   },
   "outputs": [],
   "source": [
    "def calculate_times(value):\n",
    "    ppm_levels = {'good':33,'fair': 66,'poor': 100,'very poor': 150, 'hazardous': 200}\n",
    "    if value < ppm_levels['good']:\n",
    "        note_time = 4\n",
    "    elif value < ppm_levels['fair']:\n",
    "        note_time = 8\n",
    "    elif value < ppm_levels['poor']:\n",
    "        note_time = 16\n",
    "    elif value  < ppm_levels['very poor']:\n",
    "        note_time = 32\n",
    "    elif value > ppm_levels['very poor']:\n",
    "        note_time = 64\n",
    "    return note_time\n",
    "\n"
   ]
  },
  {
   "cell_type": "code",
   "execution_count": 99,
   "metadata": {},
   "outputs": [],
   "source": [
    "midi_file = MidiFile()\n",
    "i = 0\n",
    "iters = 0\n",
    "for column in air_monthly_mean:\n",
    "    track = MidiTrack()\n",
    "    midi_file.tracks.append(track)\n",
    "    # calculate how frequently you will insert it \n",
    "    # determine what note it is going to be assigned\n",
    "    for value in air_monthly_mean[column]:\n",
    "        # determine how many you will insert, which is the number provided by calculate\n",
    "        times = calculate_times(value)     \n",
    "        for insert in range(times):\n",
    "            # if we want to insert it four times, we need to space it such that it fits in one measure, we do that by \n",
    "            # dividing 480, the number of ticks per measure over the number of times\n",
    "            track.append(Message('note_on', note=key[i], time=int(960/times)))\n",
    "            track.append(Message('note_off', note=key[i], velocity=127, time=int(960/times)))\n",
    "            track.append(Message('program_change', program=12+i))\n",
    "\n",
    "    i += 1\n",
    "    track.append(MetaMessage('set_tempo',tempo=1000000))\n",
    "        \n",
    "# we calculate the note time value. We will fill each measure (4 pulses) with each note time\n",
    "# 1/4 notes will be inserted four times\n",
    "# 1/8 notes will be inserted 8 times\n",
    "\n",
    "# 1/4 = good\n",
    "# 1/8 = fair\n",
    "# 1/16 = poor\n",
    "# 1/32 = very poor\n",
    "# 1/64 = hazardous\n",
    "\n",
    "midi_file.save('air6000.midi')"
   ]
  },
  {
   "cell_type": "code",
   "execution_count": 94,
   "metadata": {},
   "outputs": [
    {
     "data": {
      "text/plain": [
       "65"
      ]
     },
     "execution_count": 94,
     "metadata": {},
     "output_type": "execute_result"
    }
   ],
   "source": []
  },
  {
   "cell_type": "code",
   "execution_count": null,
   "metadata": {},
   "outputs": [],
   "source": []
  }
 ],
 "metadata": {
  "kernelspec": {
   "display_name": "Python 3",
   "language": "python",
   "name": "python3"
  },
  "language_info": {
   "codemirror_mode": {
    "name": "ipython",
    "version": 3
   },
   "file_extension": ".py",
   "mimetype": "text/x-python",
   "name": "python",
   "nbconvert_exporter": "python",
   "pygments_lexer": "ipython3",
   "version": "3.7.4"
  }
 },
 "nbformat": 4,
 "nbformat_minor": 2
}
